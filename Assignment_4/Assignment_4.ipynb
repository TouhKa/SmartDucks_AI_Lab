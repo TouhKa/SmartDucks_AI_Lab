{
 "cells": [
  {
   "cell_type": "code",
   "execution_count": 4,
   "metadata": {
    "colab": {
     "base_uri": "https://localhost:8080/"
    },
    "id": "cgvvWbigDxeN",
    "outputId": "5e662a23-27ce-4ad8-e1c2-92d220aec7e7"
   },
   "outputs": [
    {
     "name": "stdout",
     "output_type": "stream",
     "text": [
      "cuda\n"
     ]
    }
   ],
   "source": [
    "import torch\n",
    "import torchvision\n",
    "from torch.utils.data import Dataset, DataLoader\n",
    "import torchvision.datasets as datasets\n",
    "import torch.nn as nn\n",
    "import torch.nn.functional as F\n",
    "import torch.optim as optim\n",
    "import torchvision.transforms as T\n",
    "import matplotlib.pyplot as plt\n",
    "import time\n",
    "import warnings\n",
    "import numpy as np\n",
    "import gym\n",
    "import matplotlib.pyplot as plt\n",
    "warnings.filterwarnings(\"ignore\")\n",
    "\n",
    "random_seed = 1\n",
    "torch.backends.cudnn.enabled = False\n",
    "torch.manual_seed(random_seed)\n",
    "\n",
    "device = \"cuda\" if torch.cuda.is_available() else \"cpu\"\n",
    "print(device)"
   ]
  },
  {
   "cell_type": "code",
   "execution_count": 18,
   "metadata": {},
   "outputs": [],
   "source": [
    "def plot_rewards(rewards, round):\n",
    "    plt.plot(range(0,round + 1), rewards)\n",
    "    plt.xlabel(\"Episodes\")\n",
    "    plt.ylabel(\"Mean Reward\")\n",
    "    plt.title(\"Mean Reward per Episode\")\n",
    "    plt.show()"
   ]
  },
  {
   "cell_type": "code",
   "execution_count": 29,
   "metadata": {
    "colab": {
     "base_uri": "https://localhost:8080/",
     "height": 476
    },
    "id": "Tz99vn4VMqOd",
    "outputId": "8fbd44ef-54ae-43e4-efb9-d85d8d332126"
   },
   "outputs": [
    {
     "name": "stdout",
     "output_type": "stream",
     "text": [
      "Round -1 :Initial mean reward -42.30633200638368 --- Initial top 20 reward is 56.54612297857976\n",
      "Start training...\n",
      "Press any key to continue. Please record the final episode jkjk\n",
      "\n",
      "Start testing\n",
      "Final mean reward -15177.622575747579\n"
     ]
    },
    {
     "data": {
      "image/png": "[encoded data removed]",
      "text/plain": [
       "<Figure size 432x288 with 1 Axes>"
      ]
     },
     "metadata": {
      "needs_background": "light"
     },
     "output_type": "display_data"
    }
   ],
   "source": [
    "def nn_train(gpu = False, size_hidden_layer = 100, learningrate=1e-4, momentum = 0.5, mean_reward_threshold = 100, EPISODEN = 100,  STEPS_PER_EPISODE = 500):\n",
    "\n",
    "    env = gym.make('LunarLander-v2')\n",
    "    env.seed(random_seed)\n",
    "\n",
    "    class Net(nn.Module):\n",
    "        def __init__(self, D_in, H, D_out):\n",
    "            super(Net, self).__init__()\n",
    "            self.linear1 = nn.Linear(D_in, H)\n",
    "            self.relu1 = torch.nn.ReLU()\n",
    "            self.linear2 = nn.Linear(H, D_out)\n",
    "\n",
    "        def forward(self, x):\n",
    "            \"\"\"\n",
    "            In the forward function we accept a Tensor of input data and we must return\n",
    "            a Tensor of output data. We can use Modules defined in the constructor as\n",
    "            well as arbitrary operators on Tensors.\n",
    "            \"\"\"\n",
    "            l1 = self.linear1(x) \n",
    "            h_relu = self.relu1(l1)\n",
    "            #y_pred = nn.Softmax(self.linear2(h_relu))\n",
    "            y_pred = self.linear2(h_relu)\n",
    "            # y_pred = self.soft_max(self.linear2(h_relu))\n",
    "            return y_pred\n",
    "\n",
    "    def train(episodes_data):\n",
    "        model.train()\n",
    "\n",
    "        for episode in episodes_data:\n",
    "            for data, target in episode:\n",
    "                data = torch.tensor(data, device = device)\n",
    "                target = torch.tensor(target, device = device)\n",
    "                optimizer.zero_grad()\n",
    "                y_pred = model(data)\n",
    "                y_pred = torch.unsqueeze(y_pred, 0)\n",
    "                target = torch.unsqueeze(target, 0)\n",
    "                #y_pred = torch.Tensor(y_pred, device=\"cpu\")\n",
    "                #y_pred = int(np.argmax(y_pred.cpu().detach().numpy()))\n",
    "                # print(y_pred.shape)\n",
    "                loss = criterion(y_pred, target)\n",
    "                loss.backward()\n",
    "                optimizer.step()\n",
    "            # print(f\"Loss for most recent episode is {loss.item()}\")\n",
    "\n",
    "    #diese methode kann zum erstellen von trainingdaten als auch für das \n",
    "    #testen des aktuellen modells verwendet werden\n",
    "    def generate_train_data(episoden, rendering):\n",
    "        model.eval()\n",
    "        all_scores = []\n",
    "        episodes = [] # [ [(state, action), (),...()], [(state, action), (),...()], ...]\n",
    "        rewards = []\n",
    "        sm = nn.Softmax(dim=0)\n",
    "        for i in range(episoden):\n",
    "            obs = env.reset() # reset for each new trial  \n",
    "            state_action_pairs_per_episode = [] #[(state, action),(), ...]\n",
    "            episode_reward = 0\n",
    "\n",
    "            for t in range(STEPS_PER_EPISODE): # run for maximum 500 timesteps or until done, whichever is first\n",
    "                #get states and put into network\n",
    "                \n",
    "                with torch.no_grad():\n",
    "                    data = torch.tensor(obs, device = device)\n",
    "                    outputs = model(data)\n",
    "#                     print(outputs)\n",
    "                    propability_dist = sm(outputs).cpu().detach().numpy()\n",
    "#                     print(propability_dist)\n",
    "                    outputs = outputs.cpu().detach().numpy()\n",
    "                    choice = np.random.choice(outputs, size=1, p=propability_dist)\n",
    "\n",
    "                    new_action = np.where((outputs == choice))[0][0] # new approach\n",
    "#                 new_action = int(np.argmax(outputs.cpu())) #old approach\n",
    "                state_action_tupel = (obs, new_action)\n",
    "                state_action_pairs_per_episode.append(state_action_tupel)\n",
    "        \n",
    "                if rendering:\n",
    "                    env.render()\n",
    "                obs, reward, done, info = env.step(new_action)\n",
    "                episode_reward+=reward\n",
    "\n",
    "                if done and (not rendering):\n",
    "                  #print(\"Episode finished after {} timesteps\".format(t+1))\n",
    "                    break\n",
    "\n",
    "                #print(episode_reward/STEPS_PER_EPISODE)\n",
    "                episodes.append(state_action_pairs_per_episode)\n",
    "                rewards.append(episode_reward)\n",
    "            env.close()\n",
    "\n",
    "\n",
    "        rewards = np.array(rewards)\n",
    "        episodes = np.array(episodes)\n",
    "        sort_index = rewards.argsort()\n",
    "        top_rewards = rewards[sort_index[::-1]][:20]\n",
    "        top_episodes = episodes[sort_index[::-1]][:20]\n",
    "        return top_episodes, top_rewards.mean(), rewards.mean()\n",
    "\n",
    "    D_in = 8\n",
    "    H = size_hidden_layer\n",
    "    D_out = 4\n",
    "    all_rewards = 0\n",
    "    round = 0 \n",
    "    rewards = []\n",
    "    \n",
    "    model = Net(D_in, H, D_out)\n",
    "    criterion = torch.nn.CrossEntropyLoss()\n",
    "    optimizer = torch.optim.SGD(model.parameters(), lr=learningrate, momentum=momentum)\n",
    "    if gpu: \n",
    "        model.cuda()\n",
    "\n",
    "    \"\"\" Get initial training episodes  \"\"\"\n",
    "    train_data, top_rewards, all_rewards = generate_train_data(EPISODEN, rendering = False)\n",
    "    print(\"Round -1 :Initial mean reward {} --- Initial top 20 reward is {}\".format(all_rewards, top_rewards, round))\n",
    "    print(\"Start training...\")\n",
    "    rewards.append(all_rewards)\n",
    "\n",
    "    \"\"\" Traing until mean reward hits threshold  \"\"\"\n",
    "    while (all_rewards < mean_reward_threshold):\n",
    "        train(train_data)\n",
    "        train_data, top_rewards, all_rewards = generate_train_data(EPISODEN, rendering = False)\n",
    "        print(\"Round {}: Current mean reward {} --- Top 20 reward is {}\".format(round, all_rewards, top_rewards))\n",
    "        rewards.append(all_rewards)\n",
    "        round = round + 1\n",
    "    \n",
    "    \"\"\" test with one final rendered epsiode  \"\"\"\n",
    "    waiting_mechanism = input(\"Press any key to continue. Please record the final episode \")\n",
    "    print(\"\\nStart testing\")\n",
    "\n",
    "    train_data, top_rewards, all_rewards = generate_train_data(1, rendering = True)\n",
    "    print(\"Final mean reward {}\".format(all_rewards, top_rewards, round))\n",
    "    \n",
    "    plot_rewards(rewards, round)\n",
    "        \n",
    "nn_train(gpu = True, \n",
    "         size_hidden_layer = 500, \n",
    "         learningrate=0.1, \n",
    "         momentum = 0.3, \n",
    "         mean_reward_threshold = -45, \n",
    "         EPISODEN = 100,  \n",
    "         STEPS_PER_EPISODE = 500)"
   ]
  },
  {
   "cell_type": "code",
   "execution_count": 25,
   "metadata": {},
   "outputs": [],
   "source": [
    "import gym\n",
    "env = gym.make('LunarLander-v2')\n",
    "env.reset()\n",
    "for _ in range(1000):\n",
    "    env.render()\n",
    "    obs, reward, done, info = env.step(env.action_space.sample()) # take a random action\n",
    "#     if done:\n",
    "#         break\n",
    "env.close()"
   ]
  },
  {
   "cell_type": "code",
   "execution_count": null,
   "metadata": {},
   "outputs": [],
   "source": []
  }
 ],
 "metadata": {
  "accelerator": "GPU",
  "colab": {
   "collapsed_sections": [],
   "name": "ReinforcementLearning_lunarlanding.ipynb",
   "provenance": []
  },
  "kernelspec": {
   "display_name": "Python 3",
   "language": "python",
   "name": "python3"
  },
  "language_info": {
   "codemirror_mode": {
    "name": "ipython",
    "version": 3
   },
   "file_extension": ".py",
   "mimetype": "text/x-python",
   "name": "python",
   "nbconvert_exporter": "python",
   "pygments_lexer": "ipython3",
   "version": "3.9.2"
  }
 },
 "nbformat": 4,
 "nbformat_minor": 1
}
