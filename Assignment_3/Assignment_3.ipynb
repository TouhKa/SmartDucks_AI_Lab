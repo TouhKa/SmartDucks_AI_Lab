{
  "nbformat": 4,
  "nbformat_minor": 0,
  "metadata": {
    "colab": {
      "name": "Assignment_3.ipynb",
      "provenance": [],
      "collapsed_sections": []
    },
    "kernelspec": {
      "display_name": "Python 3",
      "name": "python3"
    },
    "language_info": {
      "name": "python"
    },
    "accelerator": "GPU"
  },
  "cells": [
    {
      "cell_type": "code",
      "metadata": {
        "colab": {
          "base_uri": "https://localhost:8080/"
        },
        "id": "l80sWpVUFH77",
        "outputId": "f96d3cec-8b6b-40e5-cf7d-11a0d0c057f3"
      },
      "source": [
        "import pandas as pd\n",
        "import string\n",
        "import spacy\n",
        "import re\n",
        "import numpy as np\n",
        "import spacy.cli\n",
        "import time\n",
        "import torch\n",
        "import torch.nn as nn\n",
        "import torch.nn.functional as F\n",
        "import torch.optim as optim\n",
        "from torch.utils.data import DataLoader\n",
        "\n",
        "torch.manual_seed(1)\n",
        "spacy.cli.download(\"de_core_news_md\")\n",
        "spacy.prefer_gpu() #returns true if GPU/Cuda is available"
      ],
      "execution_count": null,
      "outputs": [
        {
          "output_type": "stream",
          "text": [
            "\u001b[38;5;2m✔ Download and installation successful\u001b[0m\n",
            "You can now load the model via spacy.load('de_core_news_md')\n"
          ],
          "name": "stdout"
        },
        {
          "output_type": "execute_result",
          "data": {
            "text/plain": [
              "True"
            ]
          },
          "metadata": {
            "tags": []
          },
          "execution_count": 1
        }
      ]
    },
    {
      "cell_type": "code",
      "metadata": {
        "id": "eU5UOmR1tnxZ"
      },
      "source": [
        "nlp = spacy.load('de_core_news_md')"
      ],
      "execution_count": null,
      "outputs": []
    },
    {
      "cell_type": "code",
      "metadata": {
        "id": "yjeIaz0BNr1V"
      },
      "source": [
        "test_url = 'https://raw.githubusercontent.com/tblock/10kGNAD/master/test.csv'\n",
        "train_url = 'https://raw.githubusercontent.com/tblock/10kGNAD/master/train.csv'\n",
        "df_train = pd.read_csv(train_url, error_bad_lines=False, delimiter=';', quotechar='\\'', header=None,names=['Topic', 'Text'])\n",
        "df_test = pd.read_csv(test_url, error_bad_lines=False, delimiter=';', quotechar='\\'',  header=None, names=['Topic', 'Text'])"
      ],
      "execution_count": null,
      "outputs": []
    },
    {
      "cell_type": "code",
      "metadata": {
        "id": "J6jvRc3dwrMI"
      },
      "source": [
        " all_tokens = []"
      ],
      "execution_count": null,
      "outputs": []
    },
    {
      "cell_type": "code",
      "metadata": {
        "colab": {
          "base_uri": "https://localhost:8080/"
        },
        "id": "v0QhSZ59GnC1",
        "outputId": "8a5099ab-381e-4296-82a1-14d7932e01a8"
      },
      "source": [
        "df_train.info"
      ],
      "execution_count": null,
      "outputs": [
        {
          "output_type": "execute_result",
          "data": {
            "text/plain": [
              "<bound method DataFrame.info of               Topic                                               Text\n",
              "0             Sport  21-Jähriger fällt wohl bis Saisonende aus. Wie...\n",
              "1            Kultur  Erfundene Bilder zu Filmen, die als verloren g...\n",
              "2               Web  Der frischgekürte CEO Sundar Pichai setzt auf ...\n",
              "3        Wirtschaft  Putin: \"Einigung, dass wir Menge auf Niveau vo...\n",
              "4            Inland  Estland sieht den künftigen österreichischen P...\n",
              "...             ...                                                ...\n",
              "9240         Inland  Bernd Saurer war Bridge-Juniorenweltmeister un...\n",
              "9241  International  Sandhere soll in vergangener Woche bei Luftang...\n",
              "9242     Wirtschaft  Derzeit Konzeptgruppe in Berlin – Kein Komment...\n",
              "9243         Inland  Landeshauptmann will den vierten Regierungssit...\n",
              "9244       Panorama  Er ist einer von Millionen syrischen Flüchtlin...\n",
              "\n",
              "[9245 rows x 2 columns]>"
            ]
          },
          "metadata": {
            "tags": []
          },
          "execution_count": 5
        }
      ]
    },
    {
      "cell_type": "code",
      "metadata": {
        "colab": {
          "base_uri": "https://localhost:8080/"
        },
        "id": "eAR4dR6vGmfA",
        "outputId": "6d0b29ac-6d4f-4e83-e25b-ca8c4943edc5"
      },
      "source": [
        "df_test.info"
      ],
      "execution_count": null,
      "outputs": [
        {
          "output_type": "execute_result",
          "data": {
            "text/plain": [
              "<bound method DataFrame.info of               Topic                                               Text\n",
              "0        Wirtschaft  Die Gewerkschaft GPA-djp lanciert den \"All-in-...\n",
              "1             Sport  Franzosen verteidigen 2:1-Führung – Kritische ...\n",
              "2               Web  Neues Video von Designern macht im Netz die Ru...\n",
              "3             Sport  23-jähriger Brasilianer muss vier Spiele pausi...\n",
              "4     International  Aufständische verwendeten Chemikalie bei Gefec...\n",
              "...             ...                                                ...\n",
              "1023            Web  Programm \"Ebay Plus\" soll Ende September start...\n",
              "1024         Inland  Fehlerhafte Bilanz 2013, Partei will berufen –...\n",
              "1025          Sport  Als erster Olympia-Champion auch Hawaii-Sieger...\n",
              "1026          Sport  Der Außenseiter aus Denver gewinnt die 50. Sup...\n",
              "1027            Web  Wohl keine Einschränkungen bei Google-Services...\n",
              "\n",
              "[1028 rows x 2 columns]>"
            ]
          },
          "metadata": {
            "tags": []
          },
          "execution_count": 6
        }
      ]
    },
    {
      "cell_type": "code",
      "metadata": {
        "colab": {
          "base_uri": "https://localhost:8080/"
        },
        "id": "48eJiMWSKFuN",
        "outputId": "9c0d4257-d038-4700-a680-c18a86b8cc20"
      },
      "source": [
        "##The number of valid lines for training and test should be 2154 and 244.\n",
        "valid_chars = string.ascii_letters + \"ÄÖÜäöüß?–\" + string.punctuation + string.digits + string.whitespace \n",
        "\n",
        "def check(str, pattern):\n",
        "    # _matching the strings\n",
        "    if re.search(pattern, str):\n",
        "        #print(\"Valid String\")\n",
        "        return True\n",
        "    else:\n",
        "        #print(\"Invalid String\")\n",
        "        return False\n",
        "\n",
        "regex = \"^[\"+valid_chars+\"]+$\"\n",
        "\n",
        "#filter train data frame\n",
        "df_train = df_train[(df_train['Topic'] == 'Sport') | (df_train['Topic'] == 'Wirtschaft')] \n",
        "pattern = re.compile(regex)\n",
        "mask = df_train['Text'].apply(lambda x: check(x, pattern))\n",
        "df_train = df_train[mask]\n",
        "df_train = df_train.reset_index(drop=True)\n",
        "print(df_train.info)\n",
        "\n",
        "#filter test data frame\n",
        "df_test = df_test[(df_test['Topic'] == 'Sport') | (df_test['Topic'] == 'Wirtschaft')] \n",
        "pattern = re.compile(regex)\n",
        "mask = df_test['Text'].apply(lambda x: check(x, pattern))\n",
        "df_test = df_test[mask]\n",
        "df_test = df_test.reset_index(drop=True)\n",
        "print(df_test.info)"
      ],
      "execution_count": null,
      "outputs": [
        {
          "output_type": "stream",
          "text": [
            "<bound method DataFrame.info of            Topic                                               Text\n",
            "0          Sport  21-Jähriger fällt wohl bis Saisonende aus. Wie...\n",
            "1     Wirtschaft  Putin: \"Einigung, dass wir Menge auf Niveau vo...\n",
            "2     Wirtschaft  Der Welser Stempelhersteller verbreitert sich ...\n",
            "3          Sport  Traditionsklub setzt sich gegen den FC Utrecht...\n",
            "4          Sport  Abschiedstournee für Guardiola beginnt beim HS...\n",
            "...          ...                                                ...\n",
            "2149  Wirtschaft  Austria Glas Recycling appelliert an Bevölkeru...\n",
            "2150  Wirtschaft  Kein Kommentar, ob Raffinerie in Schwechat ode...\n",
            "2151  Wirtschaft  Günter Geyer zieht nach wie vor die Fäden – El...\n",
            "2152  Wirtschaft  Der heimische Baukonzern zieht einen Großauftr...\n",
            "2153  Wirtschaft  Derzeit Konzeptgruppe in Berlin – Kein Komment...\n",
            "\n",
            "[2154 rows x 2 columns]>\n",
            "<bound method DataFrame.info of           Topic                                               Text\n",
            "0    Wirtschaft  Die Gewerkschaft GPA-djp lanciert den \"All-in-...\n",
            "1         Sport  Franzosen verteidigen 2:1-Führung – Kritische ...\n",
            "2         Sport  23-jähriger Brasilianer muss vier Spiele pausi...\n",
            "3         Sport  ÖFB-Teamspieler nur sechs Minuten nach seinem ...\n",
            "4    Wirtschaft  Öl, Kupfer und Co sollten bald im Preis steige...\n",
            "..          ...                                                ...\n",
            "239       Sport  \"Brauchen aggressive Mentalität\" – Juventus vo...\n",
            "240       Sport  Siege in zwei Sätzen gegen Stan Wawrinka und D...\n",
            "241       Sport  Gesamtscore von 5:1 gegen FC Barcelona, Katala...\n",
            "242       Sport  Werder-Stütze Junuzovic nach Gelb-Sperre gegen...\n",
            "243       Sport  Als erster Olympia-Champion auch Hawaii-Sieger...\n",
            "\n",
            "[244 rows x 2 columns]>\n"
          ],
          "name": "stdout"
        }
      ]
    },
    {
      "cell_type": "code",
      "metadata": {
        "id": "7ijmSjOSul8F"
      },
      "source": [
        "def tokenize(lines, nlp, train=False):\n",
        "  tokens = []\n",
        "  for line in lines:\n",
        "    line_tokens = []\n",
        "    doc = nlp(line)\n",
        "    for token in doc:\n",
        "      line_tokens.append(token.text)\n",
        "      if train:\n",
        "        all_tokens.append(token.text)\n",
        "    tokens.append(line_tokens)\n",
        "  return tokens\n",
        "\n",
        "train_tokens = tokenize(df_train.loc[:, \"Text\"], nlp, train=True)\n",
        "test_tokens = tokenize(df_test.loc[:, \"Text\"], nlp)"
      ],
      "execution_count": null,
      "outputs": []
    },
    {
      "cell_type": "code",
      "metadata": {
        "id": "740vXlti0a85"
      },
      "source": [
        "#create dictionary of 5000 most common words in trainingsdata\n",
        "unique_list, counts = np.unique(np.array(all_tokens), return_counts=True)\n",
        "arr = np.asarray((unique_list, counts)).T\n",
        "sortedArr = arr[arr[:,1].argsort()]\n",
        "sortedArr = np.flip(sortedArr)\n",
        "top_fiveK = sortedArr[:5000]"
      ],
      "execution_count": null,
      "outputs": []
    },
    {
      "cell_type": "code",
      "metadata": {
        "colab": {
          "base_uri": "https://localhost:8080/"
        },
        "id": "QjAKnkti4a2r",
        "outputId": "86186893-cfbb-4237-a8c2-cde8c490d652"
      },
      "source": [
        "top_fiveK[:3]"
      ],
      "execution_count": null,
      "outputs": [
        {
          "output_type": "execute_result",
          "data": {
            "text/plain": [
              "array([['99', 'Gastgeber'],\n",
              "       ['99', 'Aussendung'],\n",
              "       ['99', 'solche']], dtype='<U88')"
            ]
          },
          "metadata": {
            "tags": []
          },
          "execution_count": 11
        }
      ]
    },
    {
      "cell_type": "code",
      "metadata": {
        "colab": {
          "base_uri": "https://localhost:8080/"
        },
        "id": "7bgCok-T3rwD",
        "outputId": "8dfca41a-26a4-4fc3-e93d-28372e61d582"
      },
      "source": [
        "tag_to_ix = {\"Wirtschaft\": 0, \"Sport\": 1}\n",
        "word_to_ix = {}\n",
        "# For each words-list (sentence) and tags-list in each tuple of training_data\n",
        "for counter, token in top_fiveK:\n",
        "  if token not in word_to_ix:  # word has not been assigned an index yet\n",
        "    word_to_ix[token] = len(word_to_ix)  # Assign each word with a unique index\n",
        "print(word_to_ix)"
      ],
      "execution_count": null,
      "outputs": [
        {
          "output_type": "stream",
          "text": [
            "{'Gastgeber': 0, 'Aussendung': 1, 'solche': 2, 'Abschluss': 3, 'Geschäft': 4, 'Verein': 5, 'Noch': 6, 'Sport': 7, 'lang': 8, 'geplant': 9, 'du': 10, '80': 11, 'geführt': 12, 'vielleicht': 13, 'verdient': 14, 'Sein': 15, 'Über': 16, 'Coach': 17, 'Beispiel': 18, 'Schweden': 19, '35': 20, 'Niederösterreicher': 21, 'Rolle': 22, 'Linz': 23, 'nächste': 24, 'Dazu': 25, 'Ersatz': 26, 'Zentralbank': 27, 'genug': 28, 'sorgte': 29, 'findet': 30, 'Preis': 31, 'Außerdem': 32, 'Training': 33, 'gegangen': 34, 'Heta': 35, 'Viertelfinale': 36, 'Partien': 37, 'Politik': 38, 'Staatsanwaltschaft': 39, 'Zinsen': 40, 'richtig': 41, 'ihnen': 42, 'Insgesamt': 43, 'Staat': 44, '2018': 45, 'gehe': 46, 'stärker': 47, 'Investitionen': 48, 'Nun': 49, 'EM': 50, 'beste': 51, 'berichtet': 52, 'starken': 53, 'stellen': 54, 'legte': 55, 'hohen': 56, '!': 57, 'Jahr': 58, 'beim': 59, 'seit': 60, 'wieder': 61, 'Karriere': 62, 'weltweit': 63, 'zahlen': 64, 'möchte': 65, 'Verkauf': 66, 'holte': 67, '2:2': 68, 'Parlament': 69, 'Richtung': 70, 'Im': 71, 'ersten': 72, 'Schulden': 73, 'Dort': 74, 'Bereich': 75, 'Stelle': 76, 'Bund': 77, 'Runden': 78, 'Qualifikation': 79, 'geschlagen': 80, 'jene': 81, 'Karten': 82, 'fiel': 83, '(': 84, 'Weil': 85, 'setzen': 86, 'SPÖ': 87, 'bereit': 88, 'braucht': 89, 'Wacker': 90, 'Open': 91, 'Programm': 92, 'Stand': 93, 'angesichts': 94, '11': 95, 'erreichen': 96, 'FMA': 97, 'Europartner': 98, 'Dobnik': 99, 'betreffen': 100, 'Oesterreichischen': 101, 'betreute': 102, 'aufpassen': 103, 'parken': 104, 'Saatgut': 105, 'Oesterreichische': 106, 'aufholen': 107, 'Europa-League-Qualifikation': 108, 'beibehalten': 109, 'Dokumenten': 110, 'Eva-Maria': 111, 'Euro-Finanzminister': 112, 'Euphorie': 113, 'Etixx': 114, 'beteuerte': 115, 'beteuert': 116, 'ausbezahlt': 117, 'auseinander': 118, 'solo': 119, 'ausgeliefert': 120, 'Dreher': 121, 'Sauer': 122, 'aufgezeigt': 123, 'bestellen': 124, 'stabile': 125, 'siegten': 126, 'breiten': 127, 'Daneben': 128, 'OMV-Chef': 129, 'anstatt': 130, 'Fach': 131, 'bittere': 132, 'Schaller': 133, 'Defense': 134, 'Demokraten': 135, 'Demokratie': 136, 'bezweifelt': 137, 'anzunehmen': 138, 'FACC': 139, 'bewährt': 140, 'lässig': 141, 'pfeifen': 142, 'bewilligt': 143, 'beweist': 144, 'anzupassen': 145, 'bevorzugt': 146, 'Exkanzler': 147, 'Obersten': 148, 'Saints': 149, 'ausgemacht': 150, 'Einladung': 151, 'Einzelne': 152, 'Saisonrennen': 153, 'EU-Durchschnitt': 154, 'befinde': 155, 'EU-Gipfel': 156, 'bergab': 157, 'Saisontreffer': 158, 'Organisatoren': 159, 'EU-Länder': 160, 'befristet': 161, 'Osterloh': 162, 'Salamon': 163, 'zurückfahren': 164, 'verlangten': 165, 'Einsätze': 166, 'nachgekommen': 167, 'beliefen': 168, 'Ehrenreich': 169, 'bekämpft': 170, 'Einsicht': 171, 'Einbruch': 172, 'bekanntgeben': 173, 'Eingriff': 174, 'Einheit': 175, 'Einmal': 176, 'verlangte': 177, 'Energieagentur': 178, 'ausgenommen': 179, 'besiegelte': 180, 'Saisonduell': 181, 'ausgeweitet': 182, 'Olga': 183, 'ausländischer': 184, 'Dubai': 185, 'Ducks': 186, 'besseres': 187, 'reist': 188, 'ausrichten': 189, 'Ergebnissen': 190, 'Dumoulin': 191, 'Dänen': 192, 'bedenken': 193, 'E.': 194, 'aussehen': 195, 'EA': 196, 'sozial': 197, 'sportlicher': 198, 'Santiago': 199, 'auszahlen': 200, 'EBEL': 201, 'avancierte': 202, 'basiert': 203, 'beschleunigt': 204, 'pausieren': 205, 'zweifache': 206, 'cool': 207, 'erwirtschaften': 208, 'leid': 209, 'Beitritt': 210, 'erscheinen': 211, 'ersetzte': 212, 'Begutachtung': 213, 'Platzes': 214, 'erweitert': 215, 'schweres': 216, 'Bakambu': 217, 'eröffnen': 218, 'Baumax': 219, 'Playoffs': 220, 'leichteren': 221, 'radikalen': 222, 'Banknoten': 223, 'Banking': 224, 'ÖFB-Teamstürmer': 225, 'erneuerbare': 226, 'Rollen': 227, 'Pirlo': 228, 'Royal': 229, 'entschlossen': 230, 'erarbeiten': 231, 'erbracht': 232, 'erbringen': 233, 'Betracht': 234, 'erfolgreiches': 235, 'erfolgreichste': 236, 'ÖFB-Cups': 237, 'Rory': 238, 'unzufrieden': 239, 'Piech': 240, 'erhofft': 241, 'Romed': 242, 'Beratungen': 243, 'fehle': 244, 'fehlende': 245, 'Coup': 246, 'schnellste': 247, 'Auflösung': 248, 'Aufholjagd': 249, 'Auffassung': 250, 'frische': 251, 'frisches': 252, 'Attacken': 253, 'schnellsten': 254, 'Athens': 255, 'fehlender': 256, 'Asylverfahren': 257, 'früherer': 258, 'frühestens': 259, 'Aspekt': 260, 'Richtlinien': 261, 'Armen': 262, 'Richtlinie': 263, 'freiwillig': 264, 'Aufstockung': 265, 'Augenhöhe': 266, 'Pokal': 267, 'BP': 268, 'festgeschrieben': 269, 'Außenminister': 270, 'Außenhandel': 271, 'feststellen': 272, 'schrumpfte': 273, 'schrumpft': 274, 'Autobahn': 275, 'finanzieller': 276, 'finnische': 277, 'Austria-Trainer': 278, 'Austin': 279, 'flog': 280, 'Ausschlag': 281, 'Auslaufen': 282, 'entfernten': 283, 'leitet': 284, 'Bilanzen': 285, 'Cambridge': 286, 'Rückenwind': 287, 'Römer': 288, 'doppelte': 289, 'Cargo': 290, 'seriös': 291, 'Canucks': 292, 'dreht': 293, 'dreifache': 294, 'lieben': 295, 'zweistelligen': 296, 'CZE': 297, 'CO2-Ausstoß': 298, 'sensationell': 299, 'drängte': 300, 'zweithöchsten': 301, 'Pensionsreform': 302, 'zentraler': 303, 'Charles': 304, 'sicherer': 305, 'Chefcoach': 306, 'dankbar': 307, 'darstellt': 308, 'dasselbe': 309, 'Commerzbank': 310, 'Colts': 311, 'unverständlich': 312, 'Coe': 313, 'platziert': 314, 'Clasico': 315, 'sicherten': 316, 'Chris': 317, 'Chips': 318, 'deutlicher': 319, 'diagnostiziert': 320, 'dicht': 321, 'durchführen': 322, 'durchschnittlichen': 323, 'Business': 324, 'Brian': 325, 'Brehmstraße': 326, 'einnehmen': 327, 'Bournemouth': 328, 'Bosnien-Herzegowina': 329, 'politischer': 330, 'einseitig': 331, 'Boot': 332, 'Bohrungen': 333, 'einstige': 334, 'Boateng': 335, 'Blöße': 336, 'einzahlen': 337, 'einziehen': 338, 'Birdies': 339, 'emotional': 340, 'Brett': 341, 'einheitliche': 342, 'Burschen': 343, 'Briefe': 344, 'nachgelassen': 345, 'Bundeskanzlerin': 346, 'Bundesagentur': 347, 'einfache': 348, 'zwischenzeitliche': 349, 'eingebaut': 350, 'Brüsseler': 351, 'eingebüßt': 352, 'eingefroren': 353, 'selbstbewusst': 354, 'eingelegt': 355, 'Bruckbauer': 356, 'Bromwich': 357, 'eingestiegen': 358, 'eingreifen': 359, 'annehmen': 360, 'steckte': 361, 'Fakt': 362, 'Umbruch': 363, 'Menschenrechtsverletzungen': 364, 'UCI': 365, 'Sozialpartnern': 366, 'Klarheit': 367, 'US-amerikanischen': 368, 'Kjetil': 369, 'Ufo': 370, 'Umso': 371, 'Trattnig': 372, 'Umstände': 373, 'Kei': 374, 'Kaufmann': 375, 'treibt': 376, 'treiben': 377, 'Unsicherheiten': 378, 'Kane': 379, 'Klem': 380, 'Klima': 381, 'Klitschko': 382, 'Meldonium': 383, 'Konsolidierung': 384, 'versprochen': 385, 'Treichl': 386, 'voranzutreiben': 387, 'Trio': 388, 'Try': 389, 'Kommt': 390, 'Komitee': 391, 'Kolvidsson': 392, 'Tscheryschew': 393, 'twitterte': 394, 'Meilenstein': 395, 'Turkish': 396, 'Knöchelverletzung': 397, 'Knöchel': 398, 'Unterfangen': 399, 'Unternehmern': 400, 'KKR': 401, 'Isner': 402, 'Skifahren': 403, 'Verkäufe': 404, 'Verkäufer': 405, 'Verletzungspause': 406, 'obere': 407, 'toller': 408, 'Intelligenz': 409, 'Mitgliedstaaten': 410, 'Instrumente': 411, 'Insolvenzantrag': 412, 'Insbesondere': 413, 'Innovation': 414, 'Verschärfung': 415, 'rechtfertigen': 416, 'wahnsinnig': 417, 'vorzulegen': 418, 'Verhandlungsrunde': 419, 'KAA': 420, 'Vergangene': 421, 'Jönköping': 422, 'vorläufige': 423, 'Jones': 424, 'möge': 425, 'niederösterreichische': 426, 'Jene': 427, 'Verbesserungen': 428, 'vorsorglich': 429, 'Verbrauchern': 430, 'Vereinigung': 431, 'Jagd': 432, 'Skripnik': 433, 'Ivo': 434, 'vorzeitigen': 435, 'reich': 436, 'Konstantin': 437, 'Spielaufbau': 438, 'starb': 439, 'nominiert': 440, 'Straflandesgericht': 441, 'Lillehammer': 442, 'Ligaspiele': 443, 'verwehrt': 444, 'Streichung': 445, 'Lercher': 446, 'Sturm-Trainer': 447, 'Stuttgarter': 448, 'Konzernen': 449, 'Stärken': 450, 'Substanz': 451, 'Suisse': 452, 'verzichtete': 453, 'Superstars': 454, 'LeBron': 455, 'Suzuka': 456, 'Margen': 457, 'Stillschweigen': 458, 'Steve': 459, 'Lloyd': 460, 'Startnummer': 461, 'Magnus': 462, 'Startwertes': 463, 'vertraut': 464, 'Statistikamt': 465, 'Statistiker': 466, 'Steirerin': 467, 'Stellenwert': 468, 'Stelter': 469, 'Manninger': 470, 'Steuerbetrug': 471, 'Ludwig': 472, 'Steuerlast': 473, 'Steuersystem': 474, 'Lohnnebenkosten': 475, 'Svoboda': 476, 'Swiss': 477, 'Las': 478, 'vierter': 479, 'Thalhammer': 480, 'Kunst': 481, 'Mauer': 482, 'Kuen': 483, 'Tim': 484, 'Kreuzeck': 485, 'Titelrennen': 486, 'Tomas': 487, 'Ton': 488, 'Krankl': 489, 'Kragl': 490, 'Torchance': 491, 'Mazedonien': 492, 'Spital': 493, 'Trading': 494, 'Mattersburg-Trainer': 495, 'Kurve': 496, 'Lars': 497, 'Kurven': 498, 'Sätze': 499, 'Süd': 500, 'Landgericht': 501, 'Landesregierung': 502, 'Südstädter': 503, 'Südtirol': 504, 'TV': 505, 'normalerweise': 506, 'Maschine': 507, 'Tamira': 508, 'L.': 509, 'Küste': 510, 'ungarischen': 511, 'König': 512, 'not': 513, 'wahrgenommen': 514, 'In-': 515, 'Mittelstürmer': 516, 'medizinischen': 517, 'Ganze': 518, 'Gangnes': 519, 'Zweikampf': 520, 'Niklas': 521, 'Gamache': 522, 'organisieren': 523, 'Fürstentum': 524, 'abgesichert': 525, 'Immo': 526, 'stimmten': 527, 'abgestiegen': 528, 'Fußball-Champions-League': 529, 'abheben': 530, 'Nizza': 531, 'Frust': 532, 'abwehren': 533, 'Garantie': 534, 'Garnadt': 535, 'Zuseher': 536, 'Gastspiel': 537, 'Yamaha': 538, 'Neuhold': 539, 'Geschäftsführung': 540, 'Neunter': 541, 'strikt': 542, 'Genuss': 543, 'Gelände': 544, 'Zinedine': 545, 'Gegenwart': 546, 'untere': 547, 'Gegenfinanzierung': 548, 'strategischen': 549, 'Gefängnis': 550, 'Zusammen': 551, 'Gavilan': 552, 'French': 553, 'Fremde': 554, 'Freistaat': 555, 'angelegt': 556, 'Finalserie': 557, 'angesehen': 558, 'Feuz': 559, 'Feuer': 560, 'OLG': 561, 'angestrebten': 562, 'Fertigung': 563, 'angetan': 564, 'Ferne': 565, 'Felber': 566, 'Feiertage': 567, 'Fehlen': 568, 'zeitlich': 569, 'Favoritenrolle': 570, 'Familienunternehmen': 571, 'angemessen': 572, 'Scheich': 573, 'aggressiv': 574, 'Nowitzki': 575, 'agierte': 576, 'Fratzscher': 577, 'realisieren': 578, 'Format': 579, 'Forfang': 580, 'Ford': 581, 'steirische': 582, 'mangels': 583, 'Flügel': 584, 'amerikanische': 585, 'Schiene': 586, 'Flambouraris': 587, 'angebracht': 588, 'Firmensitz': 589, 'führende': 590, 'Gesellschafter': 591, 'Gewalt': 592, 'Gewinnen': 593, 'Hingis': 594, 'wehrt': 595, 'Highlight': 596, 'Hierzulande': 597, 'WDR': 598, 'Heta-Gläubiger': 599, 'technischer': 600, 'Wahlen': 601, 'rechnete': 602, 'Herkunft': 603, 'Herausforderer': 604, 'Henry': 605, 'Henrik': 606, 'Walch': 607, 'Heimstätte': 608, 'verschafft': 609, 'Hilfsprogramms': 610, 'Hinsicht': 611, 'Weimann': 612, 'Muguruza': 613, 'Silicon': 614, 'Iberer': 615, 'IG': 616, 'Hütthaler': 617, 'Hürde': 618, 'Siegerin': 619, 'Hunderte': 620, 'Morris': 621, 'Hosiner': 622, 'Voraussicht': 623, 'Vorfreude': 624, 'tendenziell': 625, 'Vorgang': 626, 'Siebenter': 627, 'Vorsitz': 628, 'Heimatland': 629, 'Senators': 630, 'Giants': 631, 'werdenden': 632, 'Großbank': 633, 'Nafta': 634, 'Winterpause': 635, 'Nation': 636, 'suchten': 637, 'Schwester': 638, 'Wirtschaftsforschungsinstitut': 639, 'stürzte': 640, 'stürzen': 641, 'Gomes': 642, 'Wohnbau': 643, 'on': 644, 'Wohnbaudarlehen': 645, 'Wolff': 646, 'Womit': 647, 'Willi': 648, 'Wilhelm': 649, 'Seitenlinie': 650, 'Wilfried': 651, 'Weißrussen': 652, 'Handelsblatt': 653, 'Handelsabkommen': 654, 'Weltkrieg': 655, 'Hadzikic': 656, 'Hable': 657, 'Habesohn': 658, 'HSBC': 659, 'Götze': 660, 'Gutscheine': 661, 'Wenige': 662, 'Werke': 663, 'mental': 664, 'Scott': 665, 'wenigstens': 666, 'Richtig': 667, 'Raphael': 668, 'Reifen': 669, '0,25': 670, 'Poors': 671, 'gestoßen': 672, 'geschieht': 673, 'gewaltig': 674, 'Quadratmeter': 675, 'Allen': 676, 'Rand': 677, '6.000': 678, 'jahrelangen': 679, 'Aktienmärkte': 680, 'Proteste': 681, 'juristische': 682, 'gedreht': 683, '4.000': 684, 'Alleingang': 685, 'übertroffen': 686, 'gelbe': 687, 'Quoten': 688, 'geschockt': 689, 'kriegen': 690, 'schief': 691, 'kolportierte': 692, '32-jährige': 693, '147': 694, 'Airborne': 695, '144': 696, 'Quellen': 697, 'Pölzl': 698, 'Airline': 699, '6000': 700, 'Privatpersonen': 701, 'Abschwächung': 702, 'Ricardo': 703, 'Anlegern': 704, 'Profifußball': 705, '37-Jährige': 706, 'konventionelle': 707, 'kalten': 708, '8,8': 709, 'Rafal': 710, 'Pressemitteilung': 711, 'rät': 712, 'Akt': 713, '80.000': 714, 'APA-Anfrage': 715, 'klassische': 716, 'gehörte': 717, '8,7': 718, 'schaute': 719, 'Prämien': 720, 'hinterfragen': 721, 'überstanden': 722, 'günstigen': 723, '0:1-Niederlage': 724, 'kaputt': 725, 'hilfreich': 726, 'Rajoy': 727, 'getäuscht': 728, 'Rechtsanwalt': 729, 'ruft': 730, 'günstige': 731, '0:2-Rückstand': 732, '4,4': 733, '0:2-Niederlage': 734, 'kontrollierten': 735, '4,1': 736, 'geflossen': 737, 'Antoine': 738, 'punktete': 739, 'Rekordwert': 740, 'Protokoll': 741, 'Aguero': 742, '124': 743, 'Polverino': 744, 'gewordenen': 745, 'herangezogen': 746, 'übertragen': 747, 'gerutscht': 748, 'Arbeitsgruppe': 749, 'Abgasskandal': 750, 'schlimmsten': 751, 'verdreifacht': 752, '276': 753, 'Anheuser-Busch': 754, 'schaden': 755, 'Putsche': 756, 'heiße': 757, '2:0-Führung': 758, '1973': 759, 'gewährleisten': 760, 'hauchdünn': 761, 'Abgänge': 762, 'regeln': 763, '16.000': 764, 'gewähren': 765, 'jederzeit': 766, 'Adrian': 767, 'Quartalen': 768, 'hast': 769, 'Amstetten': 770, 'Abkühlung': 771, 'ganzes': 772, 'harter': 773, 'Rewe': 774, 'kriminellen': 775, 'Anel': 776, 'rückten': 777, 'produzierte': 778, 'Rechtssicherheit': 779, 'schlechteren': 780, 'Abe': 781, 'rückläufigen': 782, 'geladen': 783, 'illegalen': 784, 'jenseits': 785, 'Reserven': 786, 'Österreicherinnen': 787, '1.100': 788, '102': 789, 'kompensiert': 790, 'präsentierten': 791, 'Airbag': 792, 'hervorragend': 793, 'herrschte': 794, 'AMS-Chef': 795, 'prinzipiell': 796, 'lebende': 797, 'genützt': 798, 'primär': 799, 'gewissermaßen': 800, 'rückt': 801, '2:5': 802, '127': 803, 'Ratushny': 804, 'Achte': 805, 'den': 806, ')': 807, 'Nein': 808, 'bisherigen': 809, 'wären': 810, 'Frühjahr': 811, 'England': 812, 'Neben': 813, 'Marcel': 814, 'erzielt': 815, 'Summe': 816, 'Wolfsburg': 817, 'russischen': 818, 'Wolfgang': 819, 'gesagt': 820, 'vom': 821, 'drei': 822, 'Mann': 823, 'Einen': 824, 'Halbzeit': 825, 'rechtlichen': 826, 'Ja': 827, 'jeden': 828, 'Schluss': 829, 'angekündigt': 830, 'nämlich': 831, 'Christoph': 832, 'gingen': 833, 'unter': 834, 'soll': 835, 'bereits': 836, 'Arbeitslosigkeit': 837, 'Bereits': 838, 'früheren': 839, 'Schuss': 840, 'Achtelfinale': 841, 'Rahmen': 842, 'Jobs': 843, 'rechnen': 844, 'San': 845, 'Millionen': 846, 'paar': 847, 'Mitarbeitern': 848, 'hinaus': 849, 'Spitze': 850, 'Unter': 851, '45': 852, 'WM': 853, 'Autos': 854, 'Erste': 855, 'Gewerkschaft': 856, 'Durch': 857, 'treffen': 858, 'gemeinsam': 859, 'Handel': 860, 'Nachfrage': 861, 'starke': 862, 'zeigen': 863, '2007': 864, 'Leute': 865, '3:1': 866, 'Herbst': 867, 'fehlt': 868, 'fahren': 869, 'Frankfurt': 870, 'Niveau': 871, 'Kilometer': 872, 'Möglichkeit': 873, 'Preise': 874, 'of': 875, 'steigen': 876, 'bekommt': 877, 'Familie': 878, '?': 879, 'Sie': 880, 'Florian': 881, 'Plan': 882, 'Position': 883, '38': 884, 'kann': 885, 'damit': 886, 'OMV': 887, '200': 888, 'Notenbank': 889, 'entscheiden': 890, 'zog': 891, 'lediglich': 892, 'Anteil': 893, 'Satz': 894, 'gestiegen': 895, 'Premier': 896, 'schließlich': 897, 'Geschichte': 898, 'höher': 899, 'Industrie': 900, 'Hans': 901, 'Arnautovic': 902, 'verlor': 903, 'schlecht': 904, 'Toren': 905, 'Nadal': 906, 'Jahren': 907, 'dann': 908, 'Türkei': 909, 'darum': 910, 'groß': 911, 'Jörg': 912, 'Top': 913, 'berichtete': 914, 'mindestens': 915, 'frühere': 916, '36': 917, 'schwierig': 918, 'völlig': 919, '7,4': 920, 'Schachtjor': 921, 'FCA': 922, 'staatlicher': 923, 'Obst': 924, 'registriert': 925, 'Erwartung': 926, 'ausgewechselt': 927, 'attackiert': 928, 'ausgelost': 929, '6:5': 930, 'Ministerien': 931, 'überraschte': 932, 'FIS': 933, 'gewährleistet': 934, 'Josep': 935, 'Euro-Zone': 936, 'Feldes': 937, 'Feliciano': 938, 'niederösterreichischen': 939, 'ausgeschrieben': 940, 'K.o.-Phase': 941, 'aufzunehmen': 942, 'Journal': 943, 'Valbuena': 944, 'Euroländer': 945, 'F': 946, 'anschaut': 947, 'Satzball': 948, 'Ogris': 949, 'Fahrgäste': 950, 'Privatisierung': 951, 'mögen': 952, 'unterschreibt': 953, 'VIG': 954, 'Millionenhöhe': 955, 'aufwärts': 956, 'Jungstar': 957, 'langsamen': 958, 'Fachkräfte': 959, 'VCÖ': 960, 'anmelden': 961, 'Slam': 962, 'Junge': 963, 'Rechtsanspruch': 964, 'Jeb': 965, 'Jim': 966, 'Reißleine': 967, 'Jugend': 968, 'Jugendlichen': 969, 'Valon': 970, 'aufgefallen': 971, '8,1': 972, 'reagierten': 973, 'Veranstaltungen': 974, '1961': 975, '9,1': 976, 'Jefimowa': 977, 'ansässige': 978, 'Polster': 979, 'älteste': 980, 'scheidende': 981, 'Eduardo': 982, 'Salini': 983, 'kassieren': 984, 'Edeka': 985, 'Economy': 986, 'benachteiligt': 987, 'Eberhard': 988, 'Kfz': 989, 'AUA-Mutter': 990, 'Easyjet': 991, 'Sousa': 992, 'untersuchten': 993, 'scheinbar': 994, 'spanischer': 995, 'Sortiment': 996, 'trocken': 997, 'Kehrtwende': 998, 'Umwelthilfe': 999, 'Einkommensteuer': 1000, 'kanadische': 1001, 'spekulieren': 1002, 'Eingriffe': 1003, 'Ottel': 1004, 'APA/dpa': 1005, 'Methode': 1006, 'gestritten': 1007, 'Einem': 1008, 'Einbindung': 1009, 'triumphiert': 1010, 'Eigenschaften': 1011, 'Eidgenossen': 1012, 'Umstand': 1013, 'EU-Ratspräsident': 1014, 'gestohlen': 1015, 'Überweisungen': 1016, 'nutzt': 1017, 'Klassiker': 1018, 'Dürager': 1019, 'privater': 1020, 'Dybala': 1021, 'souveränen': 1022, 'mitteilten': 1023, 'Kleine': 1024, 'gestiegenen': 1025, 'RSA': 1026, 'Abgastests': 1027, 'Kleinen': 1028, 'Kleiner': 1029, '156': 1030, 'Dsjuba': 1031, 'träumen': 1032, 'Panik': 1033, 'scheiterten': 1034, 'scheitert': 1035, 'Überwachung': 1036, 'US-Umweltbehörde': 1037, 'Abends': 1038, 'Klar': 1039, 'Saisonergebnis': 1040, 'berühmten': 1041, 'Abbruch': 1042, 'berücksichtigen': 1043, 'USD': 1044, 'Sozialministeriums': 1045, 'vorgeben': 1046, 'EU-Behörde': 1047, 'Aaron': 1048, 'mäßig': 1049, 'Umzug': 1050, 'Utes': 1051, 'Sofia': 1052, 'Entsprechend': 1053, 'Querschnittslähmung': 1054, 'Kampagne': 1055, 'Unternehmensberatung': 1056, 'gewisser': 1057, 'Olympische': 1058, 'zugeordnet': 1059, 'Milliardären': 1060, 'bauten': 1061, 'Omer': 1062, 'Unterdessen': 1063, 'junger': 1064, 'bedacht': 1065, 'Kansas': 1066, 'verlaufen': 1067, 'Erde': 1068, 'Samwer': 1069, 'Upamecano': 1070, 'geworfen': 1071, 'KG': 1072, 'riskieren': 1073, 'KMU': 1074, 'Erlös': 1075, 'Urbantschitsch': 1076, 'Erlebnis': 1077, 'ausweiten': 1078, 'Erkenntnisse': 1079, 'ausschließen': 1080, 'schade': 1081, 'Kaeser': 1082, 'Kaffee': 1083, 'ungewöhnlich': 1084, 'angezeigt': 1085, 'Unterbrechung': 1086, 'bedeute': 1087, 'begleichen': 1088, 'Sanders': 1089, 'Sommerpause': 1090, 'verkürzen': 1091, 'Einziger': 1092, 'Miete': 1093, 'beginnenden': 1094, 'kalifornischen': 1095, 'vorhandene': 1096, 'Einzel-': 1097, 'Ostgeschäft': 1098, 'Unabhängig': 1099, 'Einschränkung': 1100, 'Einschnitte': 1101, 'Einrichtungen': 1102, 'Ost': 1103, 'ungewiss': 1104, 'Karriereende': 1105, 'Orica': 1106, '190': 1107, 'Unregelmäßigkeiten': 1108, 'gewagt': 1109, 'befindlichen': 1110, 'Elon': 1111, 'Embolo': 1112, 'befasst': 1113, 'unterstellt': 1114, 'zugestellt': 1115, 'negativer': 1116, '1936': 1117, 'bedroht': 1118, 'Kapazitäten': 1119, 'Privatbank': 1120, 'analysieren': 1121, 'Schambeinentzündung': 1122, 'Hoffen': 1123, 'Hofreither': 1124, 'Hogan': 1125, 'Giroud': 1126, 'Hohe': 1127, 'Girokonto': 1128, 'Schwede': 1129, 'hinweg': 1130, 'Ghana': 1131, 'Nettogewinn': 1132, 'Wurzeln': 1133, 'Vorhabensbericht': 1134, 'übermittelt': 1135, 'Gewissen': 1136, 'widerspricht': 1137, 'Gewinnzone': 1138, 'Hoffentlich': 1139, 'Glaubwürdigkeit': 1140, 'profil': 1141, 'Glawischnig': 1142, 'Negativsteuer': 1143, 'Graber': 1144, 'westliche': 1145, 'westlichen': 1146, 'meiste': 1147, 'Gordon': 1148, 'Hinterstoder': 1149, 'wett': 1150, 'Puchner': 1151, 'historische': 1152, 'Vormonat': 1153, 'Vorletzter': 1154, 'Wohl': 1155, 'Mourinho': 1156, 'MountainPeak': 1157, 'Wuttke': 1158, 'Honsak': 1159, 'Wirtschaftslage': 1160, 'Morgen': 1161, 'Zeitungsbericht': 1162, '40.000': 1163, 'Morata': 1164, 'Gentechnik': 1165, 'Hätte': 1166, 'Genf': 1167, 'Generalvergleich': 1168, 'Newton': 1169, 'Häuser': 1170, 'Generali-Arena': 1171, 'Höchstgericht': 1172, 'wild': 1173, 'Gemüse': 1174, 'teuren': 1175, 'strenge': 1176, 'teuerste': 1177, 'verdoppeln': 1178, 'widmen': 1179, 'Neuzugang': 1180, 'Vorarlbergerin': 1181, 'Wünschen': 1182, 'Geschäftspartner': 1183, 'Geschäftsmodell': 1184, 'Geschäftsmann': 1185, '2016/17': 1186, 'Yellen': 1187, 'Hotspur': 1188, 'Geschwindigkeit': 1189, 'Zahlungsmittel': 1190, 'Hubschrauber': 1191, 'Schulen': 1192, 'integriert': 1193, 'Hunter': 1194, 'Schuldendienst': 1195, 'Wirtschaftspolitik': 1196, 'wesentliche': 1197, 'unterbrochen': 1198, 'verschaffte': 1199, 'Hagen': 1200, 'Haftung': 1201, 'Haftstrafe': 1202, 'Hafen': 1203, 'nachträglich': 1204, 'Held': 1205, 'Haase': 1206, 'verriet': 1207, 'härtere': 1208, 'Weltranglisten-Erste': 1209, 'Waldviertler': 1210, 'Mutko': 1211, 'Henkel': 1212, 'Wahrnehmung': 1213, 'hänge': 1214, 'Haircut': 1215, 'Weltfußballer': 1216, 'Weltverbandes': 1217, 'tatsächlichen': 1218, 'Hausdurchsuchung': 1219, 'Hattrick': 1220, 'Hauser': 1221, 'Weirather': 1222, 'taktischen': 1223, 'Hauses': 1224, 'Hartl': 1225, 'Hebel': 1226, '2:0-Erfolg': 1227, 'Handlungsbedarf': 1228, 'Handelsgruppe': 1229, 'Heidenheim': 1230, '2:0-Sieg': 1231, 'Welle': 1232, 'Hamren': 1233, 'Gutor': 1234, 'Gulbis': 1235, 'Wirte': 1236, 'infolge': 1237, 'Großereignis': 1238, '34-Jährige': 1239, 'William': 1240, 'Nadolo': 1241, '34-jährige': 1242, 'verschieben': 1243, 'Griezmann': 1244, 'Side': 1245, 'Vortrag': 1246, 'Qualifikanten': 1247, 'insolvent': 1248, 'Schätzungen': 1249, 'Reformpaket': 1250, 'Greg': 1251, '2026': 1252, 'Großes': 1253, 'Reformmaßnahmen': 1254, 'Punkteverlust': 1255, 'Grubeck': 1256, 'weltgrößten': 1257, 'Gucher': 1258, 'Hereingabe': 1259, '24-jährige': 1260, 'Grün-Weißen': 1261, 'Herrn': 1262, 'Whangarei': 1263, 'Widerspruch': 1264, 'Wieder': 1265, 'Wiederbeginn': 1266, 'Musik': 1267, 'Wachstumskurs': 1268, 'Schütze': 1269, 'Wienerin': 1270, 'indessen': 1271, 'Schub': 1272, 'Vizekanzler': 1273, 'Festlegung': 1274, 'Flügelspieler': 1275, 'amtierende': 1276, 'grünen': 1277, 'analysierte': 1278, 'Flughäfen': 1279, 'anbietet': 1280, '1:0-Heimsieg': 1281, 'anderswo': 1282, 'Investition': 1283, '1995/96': 1284, 'Flipkens': 1285, 'anfangs': 1286, 'Flachschuss': 1287, 'Flachau': 1288, 'Investments': 1289, 'grüne': 1290, 'Prominente': 1291, 'gutem': 1292, 'Reich': 1293, '1:0-Sieg': 1294, 'Französin': 1295, 'Schließung': 1296, 'Instrument': 1297, 'Normalerweise': 1298, 'Insurance': 1299, 'Normalfall': 1300, 'Schirnhofer': 1301, 'oberösterreichische': 1302, 'Verpflegung': 1303, '1:2-Niederlage': 1304, 'allfällige': 1305, 'allgemein': 1306, 'involviert': 1307, 'Reha': 1308, 'Mitgliedsländer': 1309, 'Schellings': 1310, 'Verjährung': 1311, 'Insolvenzen': 1312, 'angeschlossen': 1313, 'Finanzamt': 1314, 'vorweisen': 1315, 'J.': 1316, 'überraschenden': 1317, 'Finalgegner': 1318, '1981': 1319, 'problematisch': 1320, 'Prohaska': 1321, 'Jahresanfang': 1322, 'Schanze': 1323, 'angespannt': 1324, 'angestellt': 1325, 'Jahreswechsel': 1326, 'Reichen': 1327, 'veranlasst': 1328, '1982': 1329, 'Verfahrens': 1330, 'angeführten': 1331, 'Finanzchef': 1332, 'Quelle': 1333, 'Skilehrer': 1334, 'angehen': 1335, '1986': 1336, 'Mission': 1337, 'zahle': 1338, 'Italienerin': 1339, 'überraschen': 1340, 'vorzeitige': 1341, 'zahlten': 1342, 'parallel': 1343, 'angeordnet': 1344, 'stattfindenden': 1345, 'zahlungsunfähig': 1346, 'angepeilte': 1347, 'sackte': 1348, 'Freien': 1349, 'Zielpunkt-Pleite': 1350, 'Zumal': 1351, 'interessanter': 1352, 'IWF-Chefin': 1353, 'Ibser': 1354, 'Identität': 1355, 'Vierschanzentournee': 1356, 'Gastgebern': 1357, 'Gasquet': 1358, 'Gasfeld': 1359, 'Gases': 1360, 'Regierungspartei': 1361, 'Ihrem': 1362, 'Gareth': 1363, 'untergebracht': 1364, 'Zuwanderer': 1365, 'Schmidhofer': 1366, 'Modellen': 1367, 'Zulieferer': 1368, 'Registrierkassen': 1369, 'INE': 1370, 'hervorragende': 1371, 'intensive': 1372, 'Niedersachsen': 1373, 'Gelb': 1374, 'Siegtreffer': 1375, 'offengelegt': 1376, 'Signale': 1377, 'intensiven': 1378, 'IAG': 1379, 'streben': 1380, 'thematisiert': 1381, 'intensiver': 1382, 'warm': 1383, 'Prozentpunkt': 1384, 'strategische': 1385, 'kürzen': 1386, 'Vicente': 1387, 'out': 1388, 'ablehnen': 1389, 'unterhalb': 1390, 'Vertretern': 1391, 'Schlussminute': 1392, 'Mittel-': 1393, 'verschont': 1394, 'unhaltbar': 1395, 'Innenstadt': 1396, 'Fronten': 1397, 'Nordirland': 1398, 'Nordkorea': 1399, 'Innviertel': 1400, 'Regulierungsbehörde': 1401, 'steuerliche': 1402, '2,0': 1403, 'Nordrhein-Westfalen': 1404, 'Schlussquartal': 1405, 'Fußball-Europa-League': 1406, 'Regulierungen': 1407, 'Fußball-Nationalmannschaft': 1408, 'Silverstone': 1409, 'Zweitligist': 1410, 'GPA-Chef': 1411, 'GP': 1412, 'tiefe': 1413, 'Rangliste': 1414, 'Nikola': 1415, 'Fünfer': 1416, 'Nikolaus': 1417, 'Industrieländer': 1418, 'abgelöst': 1419, 'Schlusstag': 1420, 'Industrieproduktion': 1421, 'landwirtschaftlichen': 1422, 'Industrieunternehmen': 1423, 'gestaltet': 1424, 'Overtime': 1425, 'machbar': 1426, 'verfügbare': 1427, 'Teixeira': 1428, 'Masseverwalter': 1429, 'kommentiert': 1430, 'Rupert': 1431, 'Kölner': 1432, 'Bruckberger': 1433, '118': 1434, 'eingeladen': 1435, 'Telefonkonferenz': 1436, 'Alkohol': 1437, 'Bryant': 1438, 'Brückenfinanzierung': 1439, 'geltend': 1440, 'Praktiken': 1441, 'Teamstürmer': 1442, 'Russe': 1443, 'Kyle': 1444, 'flexibel': 1445, 'Buffon': 1446, 'einfachste': 1447, 'einfachen': 1448, 'gelungenen': 1449, 'Kvitfjell': 1450, 'Rams': 1451, 'Matchbälle': 1452, 'eigenes': 1453, 'Steuerfahnder': 1454, 'Mateschitz': 1455, 'Lotterie': 1456, 'Masse': 1457, 'zwingend': 1458, 'überweisen': 1459, 'sehenswerten': 1460, 'Tagessieg': 1461, 'einschlägige': 1462, 'Bosch': 1463, 'Ängste': 1464, 'gelegenen': 1465, 'einschließlich': 1466, 'vielfach': 1467, 'Steuervermeidung': 1468, 'festlegen': 1469, 'feststehen': 1470, 'geforderte': 1471, 'Brand': 1472, 'Autobranche': 1473, 'eingetreten': 1474, 'Breaks': 1475, 'Poduschka': 1476, 'Künftig': 1477, 'Auswärtstorregel': 1478, '114': 1479, 'gelobt': 1480, 'Petition': 1481, 'gelockert': 1482, 'Allgemeine': 1483, 'Tax': 1484, 'Köstendorf': 1485, 'Teambewerb': 1486, 'Alleine': 1487, 'Luca': 1488, 'schrieben': 1489, 'Stadler': 1490, 'Ticket': 1491, 'lehnen': 1492, 'zweitbeste': 1493, 'drittplatzierten': 1494, 'und/oder': 1495, 'notiert': 1496, 'verbindliche': 1497, 'drittplatzierte': 1498, 'dritter': 1499, 'Ausfällen': 1500, 'fortan': 1501, 'lauter': 1502, 'Stellungnahmen': 1503, 'Kuala': 1504, 'Tief': 1505, 'CEE': 1506, 'Luxemburger': 1507, 'Lwiw': 1508, 'Ausbruch': 1509, 'Anzug': 1510, 'Tiger': 1511, 'Carl': 1512, 'drastisch': 1513, 'Lynch': 1514, 'serviert': 1515, 'dramatischen': 1516, 'geborene': 1517, '122': 1518, 'Kruijswijk': 1519, 'üblichen': 1520, 'CDU': 1521, 'ehemaliger': 1522, 'durchspielte': 1523, 'Anwendung': 1524, 'effizienter': 1525, 'Rat': 1526, '12.000': 1527, 'Alan': 1528, 'Bundeswettbewerbsbehörde': 1529, 'Bures': 1530, 'fokussieren': 1531, 'Steuereinnahmen': 1532, 'dänischen': 1533, 'Sportminister': 1534, 'Kursziel': 1535, 'Tesla-Aktie': 1536, 'zweitplatzierten': 1537, 'Auskünfte': 1538, 'Russin': 1539, 'Aktionären': 1540, 'Aktionen': 1541, 'Aktienmärkten': 1542, 'drückt': 1543, 'zweitgrößte': 1544, 'lehnten': 1545, 'Pensionskürzungen': 1546, 'Auslöser': 1547, 'Ausländern': 1548, 'Bürgermeister': 1549, 'Stadtrivale': 1550, 'Lumpur': 1551, 'Bonds': 1552, 'einspringen': 1553, 'Kroos': 1554, 'existiert': 1555, 'etabliert': 1556, 'ermitteln': 1557, 'erledigen': 1558, 'Lediglich': 1559, 'erlebte': 1560, 'ÖFB-Teamkapitän': 1561, 'Belohnung': 1562, 'Anfragen': 1563, 'erkämpften': 1564, 'konstatierte': 1565, 'unangenehm': 1566, 'Stürmerstar': 1567, 'Berechnung': 1568, 'erkannte': 1569, 'erobert': 1570, 'Pinturault': 1571, 'Berlins': 1572, 'Bargelds': 1573, 'erholen': 1574, 'nachweisen': 1575, 'Berufe': 1576, 'Berufsgruppen': 1577, 'Supermarktkette': 1578, 'konkurrenzfähig': 1579, 'Andernfalls': 1580, 'erfüllte': 1581, 'konjunkturellen': 1582, 'Lebens': 1583, 'Stöckl': 1584, 'errechnet': 1585, 'schlimm': 1586, 'Letztere': 1587, 'Staatsschulden': 1588, '1,25': 1589, 'Player': 1590, 'Studium': 1591, 'Stufen': 1592, 'erzeugen': 1593, 'erzählen': 1594, 'erzählte': 1595, 'erweitern': 1596, 'gegenseitig': 1597, 'Rodrigo': 1598, 'erstmaligen': 1599, 'Ankara': 1600, 'Leitner': 1601, 'Legionäre': 1602, 'Marktführer': 1603, 'ersparen': 1604, 'Porzingis': 1605, 'Leiberl': 1606, 'Platter': 1607, 'Stärkung': 1608, 'Beispiele': 1609, 'Rohstoffpreise': 1610, 'Streitigkeiten': 1611, 'Baum': 1612, 'Beiträge': 1613, 'Ribery': 1614, 'Lego': 1615, 'extreme': 1616, 'Ligen': 1617, 'Bolt': 1618, '106': 1619, 'Amador': 1620, 'Robben': 1621, 'faulen': 1622, 'korrekt': 1623, 'sechsmal': 1624, 'ungarische': 1625, 'Balance': 1626, 'gefährliche': 1627, 'Alves': 1628, 'Marschroute': 1629, 'gefährden': 1630, 'Marseille': 1631, '105': 1632, 'national': 1633, 'verwaltete': 1634, 'Äußerungen': 1635, 'fertiggestellt': 1636, 'Blazer': 1637, 'BSFZ-Arena': 1638, 'Rucksack': 1639, 'kompensieren': 1640, 'einstimmig': 1641, 'Rep': 1642, 'Anstatt': 1643, 'Boeing': 1644, 'Tabellendritten': 1645, 'Lahm': 1646, 'BEL': 1647, 'fasste': 1648, 'fantastisch': 1649, 'Bestellungen': 1650, 'entstand': 1651, 'erfreulich': 1652, 'erfordert': 1653, 'verwandelten': 1654, 'Anaheim': 1655, 'erfolgreicher': 1656, 'Betreuer': 1657, '10,6': 1658, 'Anpassungen': 1659, 'Ramos': 1660, 'Betriebsgewinn': 1661, 'Phasen': 1662, 'Lausanne': 1663, 'vergrößern': 1664, 'Laureus': 1665, 'Pflichtschulabschluss': 1666, 'kompliziert': 1667, 'falle': 1668, 'entsprechender': 1669, 'Strafstoß': 1670, 'entspreche': 1671, 'entschuldigt': 1672, 'Sydney': 1673, 'verstärken': 1674, 'Bewohner': 1675, 'Bewusstsein': 1676, 'ÖBB-Personenverkehr': 1677, 'Last': 1678, 'Szenen': 1679, 'Pellegrini': 1680, 'durchsetzte': 1681, 'billigen': 1682, 'kriminelle': 1683, 'DER': 1684, 'permanent': 1685, 'börsennotierten': 1686, '13.000': 1687, 'Patienten': 1688, 'postwendend': 1689, '130.000': 1690, 'siegt': 1691, 'Dimension': 1692, '132': 1693, 'sobald': 1694, 'Abzug': 1695, 'kritischen': 1696, 'Assistent': 1697, 'verfassungswidrig': 1698, 'Dani': 1699, 'Digital': 1700, 'klingen': 1701, 'Mchitarjan': 1702, 'DEN': 1703, 'unverhältnismäßig': 1704, 'Radsport': 1705, 'Aufsichtsbehörden': 1706, 'gerückt': 1707, 'Riegler': 1708, 'Pavic': 1709, 'Disziplin': 1710, 'Träume': 1711, 'Rückruf': 1712, 'Dirk': 1713, 'Crowdfunding': 1714, 'Cryan': 1715, 'Korneuburg': 1716, 'zusätzlicher': 1717, 'verkauften': 1718, 'Arturo': 1719, '13,5': 1720, 'Sparprogramm': 1721, 'Aufsehen': 1722, 'legal': 1723, 'Cups': 1724, 'beurteilen': 1725, 'Daraufhin': 1726, 'Aufstellung': 1727, 'reißen': 1728, 'bewahren': 1729, '136': 1730, 'Dialog': 1731, 'gastieren': 1732, 'Defizit': 1733, 'bewahrt': 1734, 'Arbeitsbedingungen': 1735, 'personelle': 1736, 'MVP': 1737, 'Dessen': 1738, 'Managern': 1739, 'Design': 1740, 'Trends': 1741, 'garantieren': 1742, 'persönlicher': 1743, 'Richterin': 1744, 'Denken': 1745, 'Trauben': 1746, 'schienen': 1747, 'Abwehrspieler': 1748, 'Konjunkturabkühlung': 1749, 'Asylanträge': 1750, 'Rüdiger': 1751, 'Datum': 1752, 'Aufgebot': 1753, 'Mancini': 1754, 'Assistenten': 1755, 'MEZ': 1756, 'Spielklasse': 1757, 'gesamt': 1758, 'beurteilt': 1759, 'Medaillen': 1760, 'Dienstagnachmittag': 1761, 'Aufarbeitung': 1762, 'blicken': 1763, 'Passiva': 1764, 'Debatten': 1765, 'Arbeitslosenzahlen': 1766, 'bevorstehenden': 1767, 'Auerbach': 1768, 'Trainerteam': 1769, 'gerät': 1770, 'Tränen': 1771, 'Rückkaufangebot': 1772, 'Töchter': 1773, 'Maximum': 1774, 'Abpraller': 1775, 'Ölpreisverfalls': 1776, 'solide': 1777, 'Ökonomie': 1778, 'U20-WM': 1779, 'Standardsituationen': 1780, 'freie': 1781, 'sonderlich': 1782, 'geringeren': 1783, 'Claudia': 1784, 'Löchern': 1785, 'Abnehmer': 1786, 'Rückkauf': 1787, 'Dr.': 1788, 'legale': 1789, 'Chargers': 1790, 'leere': 1791, 'Tyson': 1792, 'Spaltung': 1793, 'zwang': 1794, 'diene': 1795, 'französischer': 1796, 'Spitzengruppe': 1797, 'sicherzustellen': 1798, '150.000': 1799, 'Turnierverlauf': 1800, 'Titelkampf': 1801, 'Co-Trainer': 1802, 'solch': 1803, 'Kristoffersen': 1804, 'Aduriz': 1805, 'Kranjska': 1806, 'Krey': 1807, 'Kolumbien': 1808, 'derzeitige': 1809, 'Stammspieler': 1810, 'Politikern': 1811, 'U21-Teamspieler': 1812, 'tschechischen': 1813, 'Conte': 1814, 'deckt': 1815, 'gerufen': 1816, 'Mayr-Krifka': 1817, 'Rückhalt': 1818, 'diesjährigen': 1819, 'punktegleich': 1820, 'Pappelstadion': 1821, 'Kluft': 1822, 'Adelboden': 1823, 'Arminen': 1824, 'gesellschaftliche': 1825, 'Kreativität': 1826, 'betreffe': 1827, 'besteuert': 1828, 'Preisgeld': 1829, 'restliche': 1830, 'Chaos': 1831, 'keine': 1832, 'wolle': 1833, 'Mehr': 1834, 'erwarten': 1835, 'Post': 1836, '55': 1837, 'Treffen': 1838, 'Bargeld': 1839, 'sah': 1840, 'Krise': 1841, 'Ukraine': 1842, 'Viele': 1843, '2006': 1844, 'nun': 1845, 'kündigte': 1846, 'Wegen': 1847, 'Almer': 1848, 'a': 1849, 'durchaus': 1850, 'Schon': 1851, 'gesetzt': 1852, 'Antwort': 1853, 'recht': 1854, 'Spanien': 1855, 'Firma': 1856, 'Job': 1857, '2020': 1858, 'Sache': 1859, 'darunter': 1860, 'sehr': 1861, 'länger': 1862, 'versucht': 1863, 'Europäischen': 1864, 'voll': 1865, 'Djokovic': 1866, 'einzige': 1867, '2004': 1868, 'Stuttgart': 1869, 'ehemalige': 1870, 'Aktien': 1871, 'Informationen': 1872, 'Japan': 1873, 'extrem': 1874, 'Heimspiel': 1875, 'ohnehin': 1876, 'Namen': 1877, 'Basel': 1878, 'Pölten': 1879, 'TTIP': 1880, 'Federer': 1881, 'basierenden': 1882, 'brauchen': 1883, 'Weltmeister': 1884, 'sprach': 1885, '32': 1886, 'Philipp': 1887, 'Vergangenheit': 1888, 'neuer': 1889, 'vorne': 1890, 'Behörden': 1891, 'Derzeit': 1892, 'Gespräche': 1893, 'Halbfinale': 1894, 'Art': 1895, 'Artikels': 1896, 'Manager': 1897, 'wenigen': 1898, 'verlieren': 1899, 'neues': 1900, 'Anstieg': 1901, 'stellt': 1902, 'wenige': 1903, 'eigene': 1904, '34': 1905, 'neu': 1906, 'bald': 1907, 'Club': 1908, 'geplante': 1909, 'mitteilte': 1910, 'Hütter': 1911, 'droht': 1912, 'ehe': 1913, 'Fußball-Bundesliga': 1914, 'Karte': 1915, 'großer': 1916, 'Gespräch': 1917, 'Trotz': 1918, 'bessere': 1919, 'fünften': 1920, 'können': 1921, 'Siegen': 1922, '72': 1923, 'Plus': 1924, 'früh': 1925, 'weg': 1926, 'Agenturmeldungen': 1927, 'stieg': 1928, 'Pfeiffer': 1929, 'Angeles': 1930, 'Gas': 1931, 'aktuellen': 1932, 'Soriano': 1933, 'Los': 1934, 'Volltext': 1935, 'müsste': 1936, 'Atletico': 1937, 'laufenden': 1938, 'Zwei': 1939, 'rund': 1940, 'Für': 1941, 'Unterstützung': 1942, 'fällt': 1943, 'Vereine': 1944, 'Juventus': 1945, 'tatsächlich': 1946, 'eben': 1947, 'Gericht': 1948, 'Börse': 1949, 'bestätigte': 1950, 'Dominic': 1951, '3:2': 1952, 'Gelbe': 1953, 'holen': 1954, 'steigt': 1955, 'will': 1956, 'Auch': 1957, 'Aufstieg': 1958, 'Energie': 1959, '33': 1960, 'Danach': 1961, 'gezeigt': 1962, 'fordert': 1963, 'beschäftigt': 1964, '82': 1965, 'Urteil': 1966, 'ganze': 1967, 'rechnet': 1968, 'kleinen': 1969, 'mein': 1970, 'Dieser': 1971, 'Fuchs': 1972, 'Einkommen': 1973, 'feierte': 1974, 'direkt': 1975, '500': 1976, 'Glück': 1977, 'muss': 1978, 'von': 1979, 'begonnen': 1980, 'Borussia': 1981, 'Qualität': 1982, 'schrieb': 1983, 'früher': 1984, 'getroffen': 1985, '37': 1986, 'Manuel': 1987, 'Washington': 1988, 'Linie': 1989, 'Fahrzeuge': 1990, 'aktuell': 1991, 'Hochfilzen': 1992, 'Streitpunkt': 1993, 'Heimvorteil': 1994, 'krönte': 1995, 'taucht': 1996, 'Hohen': 1997, 'tausende': 1998, 'Stillstand': 1999, 'Siebenten': 2000, 'Wattens': 2001, 'Streif': 2002, 'tausend': 2003, 'Vucinic': 2004, 'inländischen': 2005, 'Steuer-': 2006, 'Referendums': 2007, 'Mariano': 2008, 'profitierten': 2009, 'Mühlberger': 2010, 'Wada': 2011, 'Vorjahrs': 2012, 'Länderspielen': 2013, 'Weder': 2014, 'Strolz': 2015, 'Mannarino': 2016, 'Senn': 2017, 'Startwert': 2018, 'Hundertstel': 2019, '0:9': 2020, 'weiterentwickeln': 2021, 'Walker': 2022, 'korrigiert': 2023, 'Ma': 2024, 'Hummels': 2025, 'weichen': 2026, 'Madison': 2027, 'unlängst': 2028, 'Marktmacht': 2029, 'individuell': 2030, 'Standardsituation': 2031, 'Strafraums': 2032, 'WM-Endrunde': 2033, 'Stadlau': 2034, 'Stimmt': 2035, 'Vorjahresfinalist': 2036, 'Steuerpflicht': 2037, 'Linien': 2038, 'Lokalmatador': 2039, 'Lohnkosten': 2040, 'Straftat': 2041, 'Steuerflucht': 2042, 'Hoogewerf': 2043, '2021': 2044, 'Stefanie': 2045, 'Warnung': 2046, 'Mandzukic': 2047, 'Siebenhofer': 2048, '2025': 2049, 'unbegründet': 2050, 'Mails': 2051, 'Hintergründe': 2052, 'installiert': 2053, 'verteuert': 2054, 'MotoGP': 2055, 'Heidi': 2056, 'reichste': 2057, 'Sicherheitsvorkehrungen': 2058, '202': 2059, 'weitaus': 2060, 'Sicherheiten': 2061, 'ignoriert': 2062, 'resümierte': 2063, 'Heim-EM': 2064, 'Stadtrivalen': 2065, 'Walkner': 2066, 'Strassl': 2067, 'Liberalisierung': 2068, 'Marathon': 2069, 'Vorgänge': 2070, 'Vorzugsaktien': 2071, 'Stiftungen': 2072, 'Marktanteile': 2073, 'Straßburg': 2074, 'ideal': 2075, 'Pöck': 2076, 'Moskauer': 2077, 'Letzte': 2078, 'niemandem': 2079, 'Straka': 2080, 'Strapazen': 2081, 'Motive': 2082, 'kräftigen': 2083, 'Stark': 2084, 'Sheffield': 2085, 'Strafrunden': 2086, 'milliardenschweren': 2087, 'Vorrunde': 2088, 'Herabstufung': 2089, 'Wambach': 2090, 'Hillary': 2091, 'milden': 2092, 'Verona': 2093, 'Morgan': 2094, 'Karibik': 2095, 'VCP': 2096, 'VB': 2097, 'Titelkämpfe': 2098, '1960': 2099, 'Kreditwürdigkeit': 2100, 'KAV': 2101, 'Toifl': 2102, 'Urengoy': 2103, '126': 2104, 'Kabinett': 2105, 'Kreditgebern': 2106, 'Sobald': 2107, 'Unverständnis': 2108, 'Untersuchungskommission': 2109, 'Mayr': 2110, 'Kalex': 2111, 'Krammer': 2112, 'Milliardäre': 2113, 'Top-Ten-Spieler': 2114, 'Kraftfahrtbundesamt': 2115, 'umfassen': 2116, 'jubelten': 2117, 'Kosovo': 2118, 'umfangreichen': 2119, 'Soldaten': 2120, 'Total': 2121, 'Kapazität': 2122, 'Konzernmutter': 2123, 'McLean': 2124, '123': 2125, 'mutmaßlichen': 2126, 'Kriminalität': 2127, 'ungefährdet': 2128, 'kombinieren': 2129, 'Jimmy': 2130, 'Slowene': 2131, 'Vanhoenacker': 2132, 'vorschlagen': 2133, 'Mattersburger': 2134, 'Valentin': 2135, 'Jobsuchenden': 2136, 'Split': 2137, 'verbesserten': 2138, 'Johan': 2139, 'Valartis': 2140, '1200': 2141, 'riss': 2142, 'Tino': 2143, 'knacken': 2144, 'Joint': 2145, 'Jonas': 2146, 'Spitzenspiel': 2147, 'übers': 2148, 'Josip': 2149, 'Maut': 2150, 'VP': 2151, 'Milos': 2152, 'missbraucht': 2153, 'voestalpine': 2154, 'Tina': 2155, 'Krog': 2156, 'Unruhe': 2157, 'vollzogen': 2158, 'Volkswagen-Konzern': 2159, 'notierte': 2160, 'vorgegangen': 2161, 'Ukraine-Krise': 2162, 'Messe': 2163, 'trugen': 2164, 'tätige': 2165, 'Kindergarten': 2166, 'Kommen': 2167, 'riefen': 2168, 'Kolumbianer': 2169, 'kaufte': 2170, '15.00': 2171, 'Tui': 2172, 'Kollegger': 2173, 'kauften': 2174, 'Rating': 2175, 'übersiedelt': 2176, 'Klagenfurt/Wien': 2177, 'ungenützt': 2178, 'Raul': 2179, 'Realisierung': 2180, 'Täuschung': 2181, 'US-Bundesstaat': 2182, 'UNIQA': 2183, '17.00': 2184, 'Meisterschaften': 2185, 'Rabatte': 2186, 'Memorandum': 2187, 'verbieten': 2188, 'Kleinigkeiten': 2189, 'Kompetenzen': 2190, 'Umgebung': 2191, 'Konferenz': 2192, 'Keglevich': 2193, 'Kontinuität': 2194, 'voneinander': 2195, 'jüngster': 2196, 'Trainern': 2197, 'Miedler': 2198, 'Kaum': 2199, 'Kavlak': 2200, 'Trainings': 2201, 'RCA': 2202, '137': 2203, 'Tranche': 2204, 'notleidenden': 2205, 'Konstanz': 2206, '139': 2207, 'Tromayer': 2208, 'Sonntagszeitung': 2209, 'Treffers': 2210, 'Umweltministerium': 2211, 'Methoden': 2212, 'Konrad': 2213, 'Treibhausgasemissionen': 2214, 'verbraucht': 2215, 'Kerber': 2216, 'Umtausch': 2217, 'Spezialisten': 2218, 'Kette': 2219, 'Meer': 2220, 'Speicher': 2221, 'ungleich': 2222, 'Veith': 2223, 'Ventura': 2224, 'robust': 2225, 'Summen': 2226, 'überwunden': 2227, 'reicher': 2228, 'Import': 2229, 'Srna': 2230, 'Leasing': 2231, 'Verzögerungen': 2232, 'unheimlich': 2233, 'Mittelfeldmann': 2234, 'Indikator': 2235, 'Suspendierung': 2236, 'Verwertung': 2237, 'Lavanttal-Arena': 2238, 'Industriespionage': 2239, 'Veruntreuung': 2240, 'künstliche': 2241, 'Verträgen': 2242, 'Sven': 2243, 'Infos': 2244, 'nichtig': 2245, 'Ramona': 2246, 'Verstärkung': 2247, 'Versprechen': 2248, 'Syrer': 2249, 'Syrern': 2250, 'Innenverteidigers': 2251, 'Szenario': 2252, 'Mithilfe': 2253, 'rotieren': 2254, 'Mittwochnachmittag': 2255, 'Lebensmittelkette': 2256, 'interessieren': 2257, 'Städtische': 2258, 'Stronach': 2259, 'verwerten': 2260, 'Sturridge': 2261, 'Leitzinsen': 2262, 'verwickelt': 2263, 'Volksbefragung': 2264, 'Leitzins': 2265, 'Siegestor': 2266, 'publik': 2267, 'konstatiert': 2268, 'Momente': 2269, 'Siegestreffer': 2270, 'Marlies': 2271, 'ICCT': 2272, 'Vielfaches': 2273, 'IEA': 2274, 'moderat': 2275, 'Modernisierung': 2276, 'Vierten': 2277, 'offener': 2278, 'Idealfall': 2279, 'Stützen': 2280, 'Lebensversicherung': 2281, 'Lebensstandard': 2282, 'konservative': 2283, 'Vielfalt': 2284, 'Mix': 2285, 'verzeichneten': 2286, 'komplex': 2287, 'prominente': 2288, 'kompletten': 2289, 'Tengelmann': 2290, 'rezeptfreie': 2291, 'Verjährungsverzicht': 2292, 'Tausende': 2293, 'torlos': 2294, 'Islands': 2295, 'tot': 2296, 'Köpfen': 2297, 'Köpfe': 2298, 'Missbrauch': 2299, 'Spritverbrauch': 2300, 'Misere': 2301, 'Iwanow': 2302, 'Tendenz': 2303, 'Massimiliano': 2304, 'topgesetzte': 2305, 'nützt': 2306, 'Masters-1000-Turnier': 2307, 'Vereinsgeschichte': 2308, 'mustergültig': 2309, 'Terrorismus': 2310, 'Verdächtigen': 2311, '119': 2312, 'Jamal': 2313, 'Verdienst': 2314, 'Verbindungen': 2315, 'Verbandspräsident': 2316, 'Verbands': 2317, 'Verbandes': 2318, '111': 2319, 'überragende': 2320, 'veröffentlichen': 2321, 'Verpackungen': 2322, 'Sprunggelenk': 2323, 'Langlauf': 2324, 'Lang': 2325, 'titelte': 2326, 'to': 2327, 'Insolvenzverfahren': 2328, 'Institution': 2329, 'verbundene': 2330, '107': 2331, 'Südsudan': 2332, 'überprüft': 2333, '108': 2334, 'nominierte': 2335, 'TV-Sender': 2336, '11.000': 2337, 'Vermittlung': 2338, 'Internationalem': 2339, '11,5': 2340, 'Tageskurs': 2341, 'Mitgliedschaft': 2342, 'Taison': 2343, 'Tajouri': 2344, 'Labor': 2345, 'Quebec': 2346, 'Skiern': 2347, 'LUX': 2348, 'Rechtslage': 2349, 'LFP': 2350, 'Wednesday': 2351, 'wozu': 2352, 'Hauptgrund': 2353, 'brachen': 2354, 'Davis': 2355, 'Daumen': 2356, 'zuschauen': 2357, 'brauchst': 2358, 'zusehends': 2359, 'brauchte': 2360, 'breite': 2361, 'bricht': 2362, 'Acapulco': 2363, 'Rücktritten': 2364, 'brächte': 2365, 'DFB-Präsident': 2366, 'circa': 2367, 'Achitz': 2368, 'Überraschungsteam': 2369, 'verhängte': 2370, 'Cunninghams': 2371, 'Pausenpfiff': 2372, 'Coyotes': 2373, 'Corriere': 2374, 'Correia': 2375, 'Dax': 2376, 'Patente': 2377, 'dauerhaft': 2378, 'phasenweise': 2379, 'bevorzugen': 2380, 'Absprung': 2381, 'Devise': 2382, 'Absteiger': 2383, 'bewies': 2384, 'gescheiterten': 2385, 'beworben': 2386, 'Abstiegsplatz': 2387, 'geschah': 2388, 'unverdient': 2389, 'Pascal': 2390, 'bezwingen': 2391, 'Republikaner': 2392, 'Pasching': 2393, 'S': 2394, 'billige': 2395, 'sinnvolle': 2396, 'Del': 2397, 'Defizite': 2398, 'sinkenden': 2399, 'Passagiere': 2400, 'Copa': 2401, 'Adamovic': 2402, 'Dieselautos': 2403, 'Akito': 2404, 'Übernahmen': 2405, 'Pensionskassen': 2406, 'drastischen': 2407, 'Cannondale': 2408, 'drehten': 2409, 'Reserve': 2410, 'Calhanoglu': 2411, 'generieren': 2412, 'CSU': 2413, 'drohe': 2414, 'verheiratet': 2415, 'Überlegungen': 2416, 'Büchern': 2417, 'Preisentwicklung': 2418, 'durchzusetzen': 2419, 'Burns': 2420, 'echter': 2421, 'Performance': 2422, 'ehesten': 2423, 'ehrlich': 2424, 'Bundesfinanzgericht': 2425, 'Card': 2426, 'Räder': 2427, 'dello': 2428, 'Carroll': 2429, 'lokalen': 2430, 'Preisverfalls': 2431, 'Closing': 2432, 'Clinton': 2433, 'dementsprechend': 2434, 'Preisniveau': 2435, 'gerichtet': 2436, 'lohnt': 2437, 'Pay': 2438, 'Research': 2439, 'deutschsprachigen': 2440, 'sichergestellt': 2441, 'Champions-League-Sieger': 2442, 'Ch': 2443, 'diesbezügliche': 2444, 'Pedro': 2445, 'Pedrosa': 2446, 'Cedric': 2447, 'disqualifiziert': 2448, 'Airport': 2449, 'genutzten': 2450, 'Dienstleister': 2451, 'Dieselmotoren': 2452, 'lockern': 2453, 'belastete': 2454, 'Primärüberschuss': 2455, 'zurzeit': 2456, 'beläuft': 2457, 'zurückbezahlt': 2458, 'bemängelt': 2459, 'Eckpunkte': 2460, 'verkraften': 2461, 'beobachtet': 2462, 'zurückfallen': 2463, 'Ebreichsdorf': 2464, 'East': 2465, 'Packers': 2466, 'berief': 2467, 'Paketgeschäft': 2468, 'berät': 2469, 'EMB': 2470, 'EM-Teilnahme': 2471, 'zurückgekehrt': 2472, 'unterziehen': 2473, 'beschlagnahmt': 2474, 'gestellten': 2475, 'belief': 2476, '279': 2477, 'E-Mails': 2478, 'Eibar': 2479, 'Einzige': 2480, 'mahnte': 2481, 'Einzelhändler': 2482, 'begleiten': 2483, 'begrenzen': 2484, 'geteilt': 2485, 'behandeln': 2486, 'beheben': 2487, 'AKV': 2488, 'Einkünfte': 2489, 'Otmar': 2490, 'Renate': 2491, 'Einklang': 2492, 'Einkauf': 2493, 'zunehmende': 2494, 'spektakulär': 2495, 'beklagte': 2496, 'Ouschan': 2497, 'ARD': 2498, 'bekräftigt': 2499, 'ARG': 2500, 'Panama-Papers': 2501, 'beschädigt': 2502, 'zusammengearbeitet': 2503, 'besuchen': 2504, 'besucht': 2505, 'nachgeholt': 2506, 'Doppelsieg': 2507, 'peinlich': 2508, 'betonen': 2509, 'Domenico': 2510, 'Sabine': 2511, 'Übersiedlung': 2512, 'Dobernig': 2513, 'geschädigt': 2514, 'Dmitri': 2515, 'Djuric': 2516, 'geschont': 2517, 'SZ': 2518, 'Paroli': 2519, 'sofortige': 2520, 'Ding': 2521, 'Dimitrow': 2522, 'Differenzen': 2523, 'SLO': 2524, 'beugen': 2525, 'Dortmunder': 2526, 'gespannt': 2527, 'souveräner': 2528, 'Draft': 2529, 'gestartete': 2530, 'Durchschlagskraft': 2531, 'besiegen': 2532, 'unterzogen': 2533, 'Durchbruch': 2534, 'besprochen': 2535, 'Abgasskandals': 2536, 'verknüpft': 2537, 'zurückgreifen': 2538, 'Abgaswerten': 2539, 'Abgeltung': 2540, 'bestand': 2541, 'Papiers': 2542, 'Drittligisten': 2543, 'Dreijahresvertrag': 2544, 'bestimmter': 2545, 'gesperrte': 2546, 'Draxl': 2547, 'Drake': 2548, 'bestätigten': 2549, 'Dragasakis': 2550, 'Bundesbank': 2551, 'Aleksander': 2552, 'Elektra': 2553, 'faire': 2554, 'Bankomaten': 2555, 'Annäherung': 2556, 'Bankgeheimnisses': 2557, 'ÖSV-Präsident': 2558, 'Bankenaufseher': 2559, 'Bank-Austria-Mutter': 2560, 'fangen': 2561, 'Roboter': 2562, 'Ballverluste': 2563, 'Bahrain': 2564, 'Anspannung': 2565, 'Ritsch': 2566, 'BBC': 2567, 'BAWAG': 2568, 'schuld': 2569, 'Anstiegs': 2570, 'festhalten': 2571, 'festzulegen': 2572, 'Portfolio': 2573, 'gefestigt': 2574, 'Auszeit': 2575, 'fairen': 2576, 'fair': 2577, 'Auswärts': 2578, 'explodiert': 2579, 'geglückt': 2580, 'Ankündigung': 2581, 'Bedingung': 2582, 'Beciraj': 2583, 'Beauftragte': 2584, 'erworbene': 2585, 'Bearbeitung': 2586, 'erwägt': 2587, 'Bauwirtschaft': 2588, 'Baustellen': 2589, 'Baustelle': 2590, 'leichtes': 2591, 'essen': 2592, 'gegebenenfalls': 2593, 'Portugiese': 2594, 'Plech': 2595, 'Basketball-Profiliga': 2596, 'Annahmen': 2597, 'Pleiten': 2598, 'expandieren': 2599, 'explizit': 2600, 'geeignet': 2601, 'ÖVP-Chef': 2602, 'erwies': 2603, 'legendäre': 2604, 'Apotheken': 2605, 'Appel': 2606, 'Appell': 2607, 'frisch': 2608, 'Arabischen': 2609, 'Auckland': 2610, 'garantiert': 2611, 'schnitt': 2612, 'schnellstmöglich': 2613, 'Athletin': 2614, 'Arbeits-': 2615, 'Aspekte': 2616, 'Aschenwald': 2617, 'Aru': 2618, 'vergaben': 2619, 'Armin': 2620, 'Armenien': 2621, 'funktionierende': 2622, 'Arktis': 2623, 'fällige': 2624, 'Argumentation': 2625, 'vergangener': 2626, 'Auftreten': 2627, 'Pogba': 2628, 'fragte': 2629, 'verfügbar': 2630, 'Ausweg': 2631, 'fließt': 2632, 'Austragung': 2633, 'Ausstiegsklausel': 2634, 'Ausstand': 2635, 'Anzeichen': 2636, 'folgende': 2637, 'Aussagekraft': 2638, 'Auslieferungen': 2639, 'Auslieferung': 2640, 'for': 2641, 'Riss': 2642, 'Anzengruber': 2643, 'fortgeführt': 2644, 'Riesenchance': 2645, 'fossiler': 2646, 'frage': 2647, 'Aufwind': 2648, 'Auftritten': 2649, 'Auftritte': 2650, 'Bedrängnis': 2651, 'Ankerbrot': 2652, 'einfahren': 2653, 'natürliche': 2654, 'Bosnien': 2655, 'geldpolitischen': 2656, 'Altach-Trainer': 2657, 'Ruder': 2658, 'Altachs': 2659, 'Bogeys': 2660, 'Bogen': 2661, 'Altenburger': 2662, 'schleppende': 2663, 'Altersversorgung': 2664, 'gelangt': 2665, 'Peyton': 2666, 'sechstes': 2667, 'Bisheriges': 2668, 'elektronischen': 2669, 'Birmingham': 2670, 'Pfeiffer-Gruppe': 2671, 'privat': 2672, 'Ruben': 2673, 'Billigflieger': 2674, 'empfehlen': 2675, 'gelebt': 2676, 'einreichen': 2677, 'Biles': 2678, 'Almasoudi': 2679, 'Resolution': 2680, 'eingebrockt': 2681, 'Ali': 2682, 'Personalstand': 2683, 'Potters': 2684, 'eingerechnet': 2685, 'Ressortchef': 2686, 'Perspektive': 2687, 'eingeschätzt': 2688, 'British': 2689, 'eingesetzten': 2690, 'Brisanz': 2691, 'Bright': 2692, 'Peschek': 2693, 'Allergan': 2694, 'seinerzeit': 2695, 'einigten': 2696, 'Allofs': 2697, 'einlaufen': 2698, 'Petra': 2699, 'einmalig': 2700, 'empört': 2701, 'Pflege': 2702, 'erwartungsgemäß': 2703, 'Beschränkungen': 2704, 'unzulässig': 2705, 'Andrej': 2706, 'Berdych': 2707, 'gehofft': 2708, 'Beobachter': 2709, 'schwächere': 2710, 'Benachteiligung': 2711, 'schwächelnde': 2712, 'Belege': 2713, 'geheim': 2714, 'Belebung': 2715, 'Angel': 2716, 'gegnerische': 2717, 'nachhaltig': 2718, 'Beihilfe': 2719, 'erschreckend': 2720, 'Platzer': 2721, 'ÖGB': 2722, 'erspart': 2723, 'schwerwiegenden': 2724, 'Anhängern': 2725, 'Berücksichtigung': 2726, 'erheben': 2727, 'Bilanzfälschung': 2728, 'ergriffen': 2729, 'Royer': 2730, 'englischer': 2731, 'verhaftet': 2732, 'gekommene': 2733, 'Bewältigung': 2734, 'Pfuscher': 2735, 'gekannt': 2736, 'entspannt': 2737, 'Bevor': 2738, 'Beurteilung': 2739, 'Routine': 2740, 'Betroffene': 2741, 'gehörig': 2742, 'schließe': 2743, 'erfassen': 2744, 'schätze': 2745, 'Bestandteil': 2746, 'gehts': 2747, 'Besserung': 2748, 'ergaben': 2749, 'Besetzung': 2750, 'begeben': 2751, 'Ehe': 2752, 'zugrunde': 2753, 'Zuschuss': 2754, 'Zeug': 2755, 'Zielen': 2756, 'Geldschleusen': 2757, 'Geldhäusern': 2758, 'Niederlassungen': 2759, 'reduzierte': 2760, 'Geier': 2761, 'Gehäuse': 2762, 'Zufriedenheit': 2763, 'Gehirnerschütterung': 2764, 'Gegenwehr': 2765, 'Zugeständnisse': 2766, 'Prozentpunkten': 2767, 'wirbt': 2768, 'herkömmlichen': 2769, 'Zunahme': 2770, 'Gebühr': 2771, 'Gebäude': 2772, 'Niedrigzinsen': 2773, 'Zusagen': 2774, 'Zusammenhalt': 2775, 'überdurchschnittlich': 2776, 'strenger': 2777, 'strengeren': 2778, 'Geräte': 2779, 'Neudorf': 2780, 'mögliches': 2781, '4,3': 2782, 'Neun': 2783, 'Geschäfts-': 2784, 'Youngster': 2785, 'Zahlreiche': 2786, 'Geschehen': 2787, 'reinen': 2788, 'meinten': 2789, 'Genauso': 2790, 'Schuldenstreit': 2791, 'strich': 2792, 'Gepäck': 2793, 'rücken': 2794, 'Georgiou': 2795, 'vermutete': 2796, '400.000': 2797, 'Zerrung': 2798, 'Zetsche': 2799, '45.000': 2800, 'Gastein': 2801, 'Schulungen': 2802, 'Zuständigkeit': 2803, 'abgewanderten': 2804, 'abgewertet': 2805, 'abhalten': 2806, 'abliefern': 2807, 'abnehmen': 2808, 'worauf': 2809, 'Frühwirth': 2810, '500-Euro-Scheins': 2811, 'absegnen': 2812, 'Schlussmann': 2813, 'harmlosen': 2814, 'vermeintlichen': 2815, 'Frosinone': 2816, 'führe': 2817, 'absurd': 2818, 'Schlusskurs': 2819, 'Freunden': 2820, 'abzuschaffen': 2821, 'abzusichern': 2822, 'half': 2823, 'Freistoßflanke': 2824, 'Fußball-Teamspieler': 2825, 'Nishioka': 2826, 'Fußballnationalmannschaft': 2827, 'helfe': 2828, 'Nigeria': 2829, 'Zuverlässigkeit': 2830, 'Garmasch': 2831, '48-Jährige': 2832, 'Ganzen': 2833, 'rückwirkend': 2834, 'Gange': 2835, 'Gandler': 2836, 'Gameiro': 2837, 'woanders': 2838, '5.500': 2839, 'G-7': 2840, 'abends': 2841, '5,6': 2842, 'Führungstreffer': 2843, '5,7': 2844, 'abgehoben': 2845, 'abgelaufene': 2846, 'Schmider': 2847, 'zugreifen': 2848, 'Neuausrichtung': 2849, 'Netzwerk': 2850, 'agierenden': 2851, 'Nachtests': 2852, 'Sechste': 2853, '2:3-Niederlage': 2854, 'Haberleitner': 2855, 'HCB': 2856, 'regionale': 2857, 'weißrussischen': 2858, 'Gündogan': 2859, 'Punktgewinn': 2860, 'György': 2861, 'Nachhinein': 2862, 'Guthaben': 2863, 'Gutachter': 2864, 'mentale': 2865, '30-jährige': 2866, 'Wermutstropfen': 2867, 'rechne': 2868, '31.000': 2869, 'Nachsatz': 2870, 'Größte': 2871, 'verraten': 2872, 'Gruppenspielen': 2873, 'Pusic': 2874, 'weitreichende': 2875, 'Haken': 2876, 'Handlungen': 2877, 'Weile': 2878, 'Münchnern': 2879, 'Weinberger': 2880, 'Hartz': 2881, 'Hartplatz': 2882, 'versammelt': 2883, 'milde': 2884, 'Selbstbewusstsein': 2885, 'Weiterentwicklung': 2886, 'Handelskette': 2887, 'Seefeld': 2888, '2:0-Heimsieg': 2889, 'Handels': 2890, 'PwC': 2891, 'Hamiltons': 2892, 'Hameter': 2893, 'Wellpappe': 2894, 'Weltcuprennen': 2895, 'Nachbesserungen': 2896, 'Welthandelsorganisation': 2897, 'Gruppengegner': 2898, 'Wiederholung': 2899, 'Wäsche': 2900, 'suspendiert': 2901, 'Goldene': 2902, 'Schweiz-Tourismus': 2903, 'Witterung': 2904, 'Goal': 2905, 'Glücksspielautomaten': 2906, 'Präsenz': 2907, 'Wohnsitz': 2908, 'optimale': 2909, 'Neo-Trainer': 2910, 'Glasner': 2911, 'Glas': 2912, 'Prozesses': 2913, 'Schwedens': 2914, 'Gianni': 2915, 'Schwarzmarkt': 2916, 'Gewissheit': 2917, 'Netzbetreiber': 2918, 'ständige': 2919, 'Schwankungen': 2920, 'hinterlässt': 2921, 'Getränke': 2922, 'Gollner': 2923, 'Wissenschafter': 2924, 'stützen': 2925, 'Grigg': 2926, 'Nachzügler': 2927, 'Großunternehmen': 2928, 'Wieso': 2929, 'Wifo-Chef': 2930, 'Wille': 2931, '33-Jährige': 2932, 'Schürrle': 2933, 'Nairo': 2934, 'Winterkorn': 2935, 'meistern': 2936, 'Gottfried': 2937, 'wertete': 2938, 'Griechenland-Krise': 2939, 'hoffentlich': 2940, 'Gremium': 2941, 'reserviert': 2942, 'wertvollsten': 2943, 'Neapel': 2944, 'Wirtschaftsforscher': 2945, 'Wirtschaftsstandort': 2946, 'aggressiven': 2947, 'abgeschlossenen': 2948, 'Mamedyarov': 2949, 'zeichnen': 2950, 'anstrebt': 2951, 'Produzenten': 2952, 'Schalker': 2953, 'FIFA-Kongress': 2954, 'FIA': 2955, 'spielerische': 2956, 'FF': 2957, 'glaubte': 2958, 'FAZ': 2959, 'Rein': 2960, 'Schade': 2961, 'arbeitslosen': 2962, 'parierte': 2963, 'unterscheiden': 2964, 'Oberwart': 2965, 'Oberösterreicherin': 2966, 'Endrang': 2967, 'Everton': 2968, 'Evaluierung': 2969, 'verabsäumt': 2970, 'bedenklich': 2971, 'sanken': 2972, 'anstellen': 2973, 'hab': 2974, 'Favey': 2975, 'angezogen': 2976, 'anhaltend': 2977, 'anhand': 2978, 'OLeary': 2979, 'anhängig': 2980, 'großartiges': 2981, 'anknüpfen': 2982, 'großartigen': 2983, 'langes': 2984, 'passierte': 2985, 'ansteigen': 2986, 'Farben': 2987, 'Fan': 2988, '7000': 2989, 'glücklichen': 2990, 'verankert': 2991, 'Reihenfolge': 2992, 'ansetzen': 2993, 'bediente': 2994, 'Fachverband': 2995, 'Eurostaaten': 2996, 'gewandt': 2997, 'Schach': 2998, 'nein': 2999, 'beantragten': 3000, 'Energy': 3001, 'Sarah': 3002, 'Engagements': 3003, 'schaffe': 3004, 'ausreichen': 3005, 'zufriedengeben': 3006, 'Erkrankung': 3007, 'ausscheiden': 3008, 'Olivier': 3009, 'ausmacht': 3010, 'saßen': 3011, 'aussprechen': 3012, 'Englands': 3013, 'außerordentlichen': 3014, 'aussteigen': 3015, 'Erdöl': 3016, 'Olsson': 3017, '9.000': 3018, 'Entweder': 3019, 'ausprobieren': 3020, 'Ernte': 3021, 'ärgert': 3022, 'Erzeugung': 3023, 'Europacup-Teilnahme': 3024, '800.000': 3025, 'probiert': 3026, 'Eurofinanzminister': 3027, 'Rekordarbeitslosigkeit': 3028, 'unterschreiben': 3029, 'gezeichnet': 3030, 'Etienne': 3031, 'sauer': 3032, 'Sarri': 3033, 'auslösen': 3034, 'ausgeliehen': 3035, 'ManUnited': 3036, 'Privaten': 3037, 'Erstes': 3038, 'beantwortet': 3039, 'ausgenutzt': 3040, 'ausgerichtet': 3041, 'Oligarchen': 3042, 'Erosion': 3043, 'nachhaltigen': 3044, 'ausüben': 3045, 'Reichtum': 3046, 'markierte': 3047, 'Schinkels': 3048, 'ökonomisch': 3049, 'angehören': 3050, 'Eliterunde': 3051, 'Finanzsektor': 3052, 'angeklagt': 3053, 'Reiche': 3054, 'angekündigte': 3055, 'scharfe': 3056, 'größerem': 3057, 'Embargo': 3058, 'zahlreicher': 3059, 'anerkennen': 3060, 'Protektionismus': 3061, 'Projekts': 3062, 'angegriffen': 3063, 'Foglar': 3064, 'Finanzvermögen': 3065, 'Flugbegleitern': 3066, '6,4': 3067, 'reduzierten': 3068, 'Nottingham': 3069, 'anerkannten': 3070, 'angeblicher': 3071, 'Fisch': 3072, 'x': 3073, 'unterlegen': 3074, 'wünschenswert': 3075, 'Firtasch': 3076, 'Schellhorn': 3077, 'Fläche': 3078, 'Elfter': 3079, 'größtes': 3080, 'unterschätzt': 3081, 'allgemeinen': 3082, 'Finanzen': 3083, 'untersten': 3084, 'sterben': 3085, 'Finalspiel': 3086, 'stetig': 3087, 'Empfehlungen': 3088, 'öfters': 3089, 'Finals': 3090, 'Fimbag': 3091, 'Finanzaufsicht': 3092, 'Fill': 3093, 'angesiedelt': 3094, 'Fiemme': 3095, 'OECD-Durchschnitt': 3096, 'angestrebte': 3097, 'Prognosezeitraum': 3098, 'Finance': 3099, 'Fleck': 3100, 'beeinflusst': 3101, 'angeschaut': 3102, 'Francois': 3103, 'Nutzen': 3104, 'Forums': 3105, 'wählen': 3106, 'Forum': 3107, 'Finanzbehörden': 3108, 'waren': 3109, 'Dinge': 3110, 'überraschend': 3111, 'gelten': 3112, 'Währungsfonds': 3113, 'fand': 3114, 'Filialen': 3115, 'OeNB': 3116, 'geholt': 3117, 'System': 3118, 'laufen': 3119, 'relativ': 3120, 'Tabellenführer': 3121, '56': 3122, 'Schobesberger': 3123, 'ab': 3124, 'demnach': 3125, 'spricht': 3126, 'wer': 3127, 'auswärts': 3128, 'diesmal': 3129, 'höhere': 3130, 'scheint': 3131, 'Marke': 3132, 'Fink': 3133, 'Hamilton': 3134, 'Blick': 3135, 'Stunde': 3136, 'Beide': 3137, 'betrifft': 3138, 'geschafft': 3139, 'Stürmer': 3140, 'Gefahr': 3141, 'Griechenlands': 3142, 'STANDARD': 3143, 'mit': 3144, 'Nach': 3145, 'gibt': 3146, 'Siege': 3147, 'Bisher': 3148, '43': 3149, 'meint': 3150, 'Meter': 3151, 'allein': 3152, 'schreibt': 3153, 'obwohl': 3154, 'übernehmen': 3155, 'Gesamtscore': 3156, 'Produktion': 3157, 'Form': 3158, 'oben': 3159, 'State': 3160, 'Zuschauern': 3161, 'Branche': 3162, 'km': 3163, 'dadurch': 3164, 'gefunden': 3165, 'Allein': 3166, 'fallen': 3167, 'wenn': 3168, 'freilich': 3169, '&': 3170, 'AG': 3171, 'Frauen': 3172, 'welche': 3173, 'positiv': 3174, 'Forderungen': 3175, 'Tiroler': 3176, 'Alexis': 3177, 'chinesischen': 3178, 'Zusammenhang': 3179, 'Finanzministerium': 3180, 'Villarreal': 3181, 'erhöht': 3182, 'schweren': 3183, '1,5': 3184, 'Portugal': 3185, 'Mario': 3186, 'Grünen': 3187, 'Auswirkungen': 3188, 'nimmt': 3189, 'Leicester': 3190, 'Griechen': 3191, 'immer': 3192, '75': 3193, 'übrigens': 3194, 'SK': 3195, 'gesamte': 3196, 'Aufgabe': 3197, '...': 3198, 'meiner': 3199, 'Steuerreform': 3200, 'Dragovic': 3201, 'Louis': 3202, 'Übernahme': 3203, 'Hinteregger': 3204, '–': 3205, 'gut': 3206, 'Gesellschaft': 3207, 'offenbar': 3208, 'aktuelle': 3209, 'Medien': 3210, 'Winter': 3211, 'Konjunktur': 3212, 'langen': 3213, 'Kommission': 3214, 'Wechsel': 3215, 'Kevin': 3216, 'Nacht': 3217, 'wartet': 3218, 'Zuletzt': 3219, 'keiner': 3220, 'Ingolstadt': 3221, 'Cup': 3222, 'genommen': 3223, 'seine': 3224, 'Stadt': 3225, 'Elfmeter': 3226, 'Folgen': 3227, 'europäische': 3228, 'zählt': 3229, 'Ermittlungen': 3230, 'Arbeitnehmer': 3231, 'Golden': 3232, '63': 3233, 'wollten': 3234, 'jedes': 3235, 'Großbritannien': 3236, '67': 3237, 'Weiter': 3238, 'Bilanz': 3239, 'spanischen': 3240, 'Kanada': 3241, 'bevor': 3242, 'verlassen': 3243, 'Junuzovic': 3244, 'ziehen': 3245, 'im': 3246, 'Meisterschaft': 3247, 'Arena': 3248, '68': 3249, 'Auftakt': 3250, 'Reformen': 3251, 'Ihr': 3252, 'Peking': 3253, '39': 3254, 'Tour': 3255, 'meinen': 3256, 'Klub': 3257, 'Alle': 3258, 'sofort': 3259, 'wiederum': 3260, '69': 3261, 'nötig': 3262, 'beträgt': 3263, '61': 3264, 'warum': 3265, 'Ungarn': 3266, '48': 3267, 'Marc': 3268, 'nahm': 3269, 'Sanktionen': 3270, 'bedeutet': 3271, 'Seiten': 3272, 'passiert': 3273, 'Ohne': 3274, 'dahin': 3275, '74': 3276, 'solle': 3277, 'Meinl': 3278, 'weiteres': 3279, 'Risiko': 3280, 'Sevilla': 3281, 'Angst': 3282, 'Gruber': 3283, 'öffentlichen': 3284, 'Hier': 3285, 'Polen': 3286, 'geplanten': 3287, 'beendet': 3288, 'Mittel': 3289, 'Teamchef': 3290, 'Arsenal': 3291, 'Europäische': 3292, 'Kader': 3293, 'kämpfen': 3294, 'Abkommen': 3295, 'Dafür': 3296, 'Lukas': 3297, 'gutes': 3298, 'abgeschlossen': 3299, 'Rede': 3300, 'helfen': 3301, 'Auto': 3302, 'verantwortlich': 3303, '46': 3304, 'Fragen': 3305, 'heraus': 3306, 'bestätigt': 3307, 'höchsten': 3308, '2000': 3309, 'müssen': 3310, 'auf': 3311, 'Er': 3312, 'ESP': 3313, 'warten': 3314, 'ziemlich': 3315, 'unserer': 3316, 'erstes': 3317, 'Gruppenphase': 3318, 'Rosberg': 3319, 'Kredite': 3320, 'Schwab': 3321, 'gesamten': 3322, 'Sprecher': 3323, '83': 3324, 'führte': 3325, 'Minnesota': 3326, '300': 3327, 'Zeiten': 3328, 'Seine': 3329, 'beteiligt': 3330, 'Vorwürfe': 3331, 'weiterer': 3332, 'Keita': 3333, 'Kinder': 3334, 'm': 3335, 'Warriors': 3336, 'eingeführten': 3337, 'entnehmen': 3338, 'einzuführen': 3339, 'relevant': 3340, 'Ryder': 3341, 'Ruhepause': 3342, 'dortige': 3343, 'eliminiert': 3344, 'einzufahren': 3345, 'entsprechendes': 3346, 'einräumt': 3347, 'Rätsel': 3348, 'doppelter': 3349, 'dominant': 3350, 'segelte': 3351, 'sechster': 3352, 'letztendlich': 3353, 'drastische': 3354, 'einsparen': 3355, 'einheitlich': 3356, 'echt': 3357, 'eingeschaltet': 3358, 'Russell': 3359, 'eingenommen': 3360, 'durchs': 3361, 'durchblicken': 3362, 'drängten': 3363, 'Rulings': 3364, 'effizient': 3365, 'Rückendeckung': 3366, 'Rudi': 3367, 'drohenden': 3368, 'season': 3369, 'einheitlichen': 3370, 'entlassenen': 3371, 'selbstfahrende': 3372, 'emotionalen': 3373, 'multinationale': 3374, 'logisch': 3375, 'Sampdoria': 3376, 'befürchteten': 3377, 'begegnen': 3378, 'begrenzte': 3379, 'begrüßen': 3380, 'beheimatet': 3381, 'behielten': 3382, 'beiträgt': 3383, 'beklagten': 3384, 'unterstrichen': 3385, 'beleidigt': 3386, 'bemerkbar': 3387, 'benötigten': 3388, 'berechnet': 3389, 'bereinigt': 3390, 'bereinigte': 3391, 'beruht': 3392, 'beförderte': 3393, 'befördert': 3394, 'digitale': 3395, 'unterschätzen': 3396, 'ausgewertet': 3397, 'auslaufenden': 3398, 'ausschied': 3399, 'auswählen': 3400, 'auszeichnen': 3401, 'baldige': 3402, 'beantragen': 3403, 'bedauerte': 3404, 'unterstrich': 3405, 'beeindruckende': 3406, 'spielende': 3407, 'befassen': 3408, 'befreit': 3409, 'spiegelt': 3410, 'Sankt': 3411, 'Sandro': 3412, 'sozialer': 3413, 'bescherte': 3414, 'beschließen': 3415, 'clever': 3416, 'längste': 3417, 'bitte': 3418, 'blauen': 3419, 'blickte': 3420, 'blöd': 3421, 'brutal': 3422, 'büßte': 3423, 'd.': 3424, 'beschuldigt': 3425, 'dIsere': 3426, 'della': 3427, 'demgegenüber': 3428, 'derartigen': 3429, 'derer': 3430, 'derselben': 3431, 'dieselben': 3432, 'bezwungen': 3433, 'bezwangen': 3434, 'längsten': 3435, 'SEB': 3436, 'besiegt': 3437, 'besserer': 3438, 'bestehend': 3439, 'bestenfalls': 3440, 'besteuern': 3441, 'Sachverhalt': 3442, 'betrachten': 3443, 'sogenannter': 3444, 'betrieb': 3445, 'betriebliche': 3446, 'SRB': 3447, 'sofortiger': 3448, 'sofortigen': 3449, 'Rosso': 3450, 'betrügerischen': 3451, 'Rotation': 3452, 'fallenden': 3453, 'entwickelten': 3454, 'Regens': 3455, 'rutschten': 3456, 'hochrangigen': 3457, 'Reformvorschläge': 3458, 'russisches': 3459, 'hohes': 3460, 'hunderte': 3461, 'härter': 3462, 'häufiger': 3463, 'höchster': 3464, 'identifiziert': 3465, 'rumänischen': 3466, 'importiert': 3467, 'indischen': 3468, 'Referee': 3469, 'ruhiger': 3470, 'laboriert': 3471, 'ruhen': 3472, 'historisch': 3473, 'heutiger': 3474, 'Rossmann': 3475, 'hervorgegangen': 3476, 'satt': 3477, 'gleicher': 3478, 'gleicht': 3479, 'globales': 3480, 'glückliche': 3481, 'veranlagt': 3482, 'sammelte': 3483, 'sammelt': 3484, 'grundsätzliche': 3485, 'Reichel': 3486, 'saisonübergreifend': 3487, 'gründen': 3488, 'gültigen': 3489, 'günstigsten': 3490, 'happy': 3491, 'Registrierung': 3492, 'herstellen': 3493, 'intelligent': 3494, 'Red-Bull-Arena': 3495, 'verbaut': 3496, 'Rechtsstreitigkeiten': 3497, 'klappen': 3498, 'Ratifizierung': 3499, 'klappt': 3500, 'klappte': 3501, 'Raten': 3502, 'kleinste': 3503, 'verbindet': 3504, 'richterliche': 3505, 'Rasinger': 3506, 'nachvollziehen': 3507, 'verbleibenden': 3508, 'rezeptfreien': 3509, 'komplexe': 3510, 'komplizierten': 3511, 'konkurrieren': 3512, 'krasser': 3513, 'kriege': 3514, 'klang': 3515, 'klagten': 3516, 'Rauball': 3517, 'jahrzehntelang': 3518, 'Rechtsstaat': 3519, 'investiere': 3520, 'investierte': 3521, 'iranischen': 3522, 'irgendein': 3523, 'irgendwelche': 3524, 'irischen': 3525, 'jegliche': 3526, 'riesig': 3527, 'jeher': 3528, 'jetzige': 3529, 'juristisch': 3530, 'kalt': 3531, 'kennengelernt': 3532, 'riesiger': 3533, 'kg': 3534, 'sauber': 3535, 'gezweifelt': 3536, 'repräsentativ': 3537, 'fördert': 3538, 'erwischen': 3539, 'etablieren': 3540, 'lehrt': 3541, 'ewig': 3542, 'Roche': 3543, 'ausgeht': 3544, 'fassenden': 3545, 'faule': 3546, 'fester': 3547, 'finanzierte': 3548, 'forciert': 3549, 'forsch': 3550, 'fortzusetzen': 3551, 'freigesprochen': 3552, 'freiwilliger': 3553, 'ursprüngliche': 3554, 'fungieren': 3555, 'schwersten': 3556, 'erschwert': 3557, 'erschließt': 3558, 'unzulässige': 3559, 'entziehen': 3560, 'relevante': 3561, 'relevanten': 3562, 'schärfer': 3563, 'ergreifen': 3564, 'Rookie': 3565, 'erhoffte': 3566, 'erholte': 3567, 'erschien': 3568, 'erkennbar': 3569, 'erkrankt': 3570, 'erkrankten': 3571, 'erkämpfte': 3572, 'schwächen': 3573, 'Rohölpreise': 3574, 'errichten': 3575, 'fungiert': 3576, 'fühlten': 3577, 'gewünschten': 3578, 'schmerzt': 3579, 'gemeinnützige': 3580, 'gemeldeten': 3581, 'lebe': 3582, 'gepunktet': 3583, 'schlafen': 3584, 'gerissen': 3585, 'gerüstet': 3586, 'gesessen': 3587, 'Rentenreform': 3588, 'Rennstall': 3589, 'gesprungen': 3590, 'gestreikt': 3591, 'gestört': 3592, 'Relegation': 3593, 'gewaltige': 3594, 'gewertet': 3595, 'gewöhnen': 3596, 'gelöscht': 3597, 'regelt': 3598, 'gelungene': 3599, 'gefüllten': 3600, 'urteilte': 3601, 'gebucht': 3602, 'gedrosselt': 3603, 'gedrängt': 3604, 'geduldig': 3605, 'Rica': 3606, 'geflogen': 3607, 'gegebenen': 3608, 'geltende': 3609, 'gehaltenen': 3610, 'geheißen': 3611, 'gehörende': 3612, 'gekündigt': 3613, 'Return': 3614, 'Restrukturierung': 3615, 'gelost': 3616, 'ausgelaufen': 3617, 'anhält': 3618, 'ausgebildet': 3619, 'traten': 3620, 'Solospitze': 3621, 'Unrecht': 3622, 'Sohnes': 3623, 'Unterm': 3624, 'Sock': 3625, 'Unterschicht': 3626, 'Unterstützer': 3627, 'Untersuchungsausschusses': 3628, 'VOR': 3629, 'Ungarns': 3630, 'unglaubliche': 3631, 'unglaublichen': 3632, 'transferiert': 3633, 'VW-Sprecher': 3634, 'Valdis': 3635, 'Varianten': 3636, 'Veilchen': 3637, 'Venture': 3638, 'Unklar': 3639, 'treu': 3640, 'Slaloms': 3641, 'Sozialhilfe': 3642, 'Turniere': 3643, 'Turniersieg': 3644, 'Sozialstaat': 3645, 'Töne': 3646, 'Tüchern': 3647, 'UBS': 3648, 'US-Ratingagentur': 3649, 'Udoji': 3650, 'Uhudler': 3651, 'Sondersitzung': 3652, 'Umlauf': 3653, 'ungeschlagene': 3654, 'trockenen': 3655, 'Umweg': 3656, 'Sonntagsöffnung': 3657, 'Umweltschutz': 3658, 'Sonntagnachmittag': 3659, 'Umweltstandards': 3660, 'Verankerung': 3661, 'traditionelle': 3662, 'Vorgehensweise': 3663, 'Vision': 3664, 'Simone': 3665, 'Vesely': 3666, 'Vestager': 3667, 'Videos': 3668, 'Vierteljahrhundert': 3669, 'Vietnam': 3670, 'Vinci': 3671, 'Siemens-Aktie': 3672, 'Volksbank': 3673, 'Verzögerung': 3674, 'Volksbanken': 3675, 'Volkskongress': 3676, 'teuersten': 3677, 'Volkswirte': 3678, 'Volley': 3679, 'Vollzug': 3680, 'testen': 3681, 'minder': 3682, 'Singles': 3683, 'Verzinsung': 3684, 'Verena': 3685, 'Skifliegen': 3686, 'unglückliche': 3687, 'Verfall': 3688, 'Verfassungsgericht': 3689, 'Vergleiche': 3690, 'Skoda': 3691, 'Verhinderung': 3692, 'Skiflug-WM': 3693, 'Verkaufszahlen': 3694, 'Verkauft': 3695, 'minimal': 3696, 'Verkäufen': 3697, 'Verlierern': 3698, 'Vermarktung': 3699, 'Verringerung': 3700, 'Versagen': 3701, 'Skandinavier': 3702, 'Vertrages': 3703, 'Vertragsverletzungsverfahren': 3704, 'Turkstream': 3705, 'Turbo': 3706, 'ungenutzt': 3707, 'Städte': 3708, 'Straßenverbindungen': 3709, 'Streker': 3710, 'Stress': 3711, 'Stromnetz': 3712, 'Staatspräsident': 3713, 'Strukturreformen': 3714, 'Staatsbahn': 3715, 'moderne': 3716, 'Supermärkte': 3717, 'Stabhochspringerin': 3718, 'Supernova': 3719, 'Sprunggelenksverletzung': 3720, 'Syngenta': 3721, 'Südamerika': 3722, 'Südamerikaner': 3723, 'Süddeutscher': 3724, 'Südkoreaner': 3725, 'Takanashi': 3726, 'Staatsverschuldung': 3727, 'Strategien': 3728, 'Sparpaket': 3729, 'Stepanenko': 3730, 'Starts': 3731, 'Station': 3732, 'Steelers': 3733, 'Stammkräfte': 3734, 'Stamford': 3735, 'Stefano': 3736, 'moralische': 3737, 'Steine': 3738, 'Steuerberater': 3739, 'Straftaten': 3740, 'Steueroptimierung': 3741, 'Steuersatz': 3742, 'Steuertricks': 3743, 'Stimme': 3744, 'regular': 3745, 'Stockerl': 3746, 'Stade': 3747, 'Strafmaßnahmen': 3748, 'Tauziehen': 3749, 'Technologies': 3750, 'umsatzstärksten': 3751, 'mittleren': 3752, 'Tochtergesellschaft': 3753, 'Tonne': 3754, 'Touchdowns': 3755, 'Touren': 3756, 'Spielort': 3757, 'Traditionsunternehmen': 3758, 'Tragen': 3759, 'Tragödie': 3760, 'Spielerin': 3761, 'Tennessee': 3762, 'Traktoren': 3763, 'Treibhausgasen': 3764, 'Trip': 3765, 'Spesen': 3766, 'Speichern': 3767, 'Troika': 3768, 'Trost': 3769, 'Speed': 3770, 'Tivoli-Stadion': 3771, 'Spitzenposition': 3772, 'Tipp': 3773, 'Tiere': 3774, 'Tennisprofi': 3775, 'Terminal': 3776, 'Sprit': 3777, 'Terror': 3778, 'umkämpften': 3779, 'Sprachkurse': 3780, 'Sprachen': 3781, 'regulierten': 3782, 'Sportart': 3783, 'Testphase': 3784, 'Testspielen': 3785, 'Texaner': 3786, 'Sponsor': 3787, 'Thailand': 3788, 'Theorie': 3789, 'mobilen': 3790, 'Thun': 3791, 'Voraus': 3792, 'teilzunehmen': 3793, 'Satzes': 3794, 'Schlussabschnitt': 3795, 'ablehnt': 3796, 'ablösen': 3797, 'abschaffen': 3798, 'abschließende': 3799, 'absehbarer': 3800, 'steuerte': 3801, 'abtransportiert': 3802, 'abziehen': 3803, 'abzugeben': 3804, 'abgesprochen': 3805, 'steuerfrei': 3806, 'ad': 3807, 'agierten': 3808, 'aktiver': 3809, 'Schladming': 3810, 'Schirokow': 3811, 'unterlaufen': 3812, 'manipulierten': 3813, 'abgewehrt': 3814, 'medizinische': 3815, 'steigert': 3816, 'Zoll': 3817, 'Zeugenaussagen': 3818, 'Zhang': 3819, 'mühsam': 3820, 'Schotte': 3821, 'Zinswende': 3822, 'Schofield': 3823, 'Zivilverfahren': 3824, 'Schocks': 3825, 'Zone': 3826, 'abgehakt': 3827, 'Zukauf': 3828, 'Zurückhaltung': 3829, 'Zustellung': 3830, 'Schnellste': 3831, 'Zuteilung': 3832, 'Zwanziger': 3833, 'Zweimal': 3834, 'abgearbeitet': 3835, 'ambitionierten': 3836, 'Schiedsgerichte': 3837, 'Vorlagen': 3838, 'aufhorchen': 3839, 'arabischen': 3840, 'argentinischen': 3841, 'attraktiver': 3842, 'aufbringen': 3843, 'aufgedeckt': 3844, 'aufgelegt': 3845, 'aufgestiegen': 3846, 'aufhalten': 3847, 'aufweisen': 3848, 'unternimmt': 3849, 'Schaber': 3850, 'Scala': 3851, 'Saul': 3852, 'aufzugeben': 3853, 'Saudi-Arabiens': 3854, 'augenscheinlich': 3855, 'spätere': 3856, 'auseinandersetzen': 3857, 'stagnierte': 3858, 'anzumerken': 3859, 'anfällig': 3860, 'angekurbelt': 3861, 'angebliche': 3862, 'Schiedsgericht': 3863, 'angedacht': 3864, 'angedeutet': 3865, 'angedroht': 3866, 'angehäuft': 3867, 'Scheinrechnung': 3868, 'staubte': 3869, 'angesagt': 3870, 'anschließen': 3871, 'Schatow': 3872, 'statistisch': 3873, 'angestiegen': 3874, 'starteten': 3875, 'mancher': 3876, 'Starke': 3877, 'starkem': 3878, 'anpassen': 3879, 'Schuhe': 3880, 'Zentralbanken': 3881, 'Zellmann': 3882, 'merklich': 3883, 'Weiterhin': 3884, 'Weiterverkauf': 3885, 'Wellington': 3886, 'Welthandel': 3887, 'Segment': 3888, 'Segler': 3889, 'Weltklasse': 3890, 'Weltmarktführer': 3891, 'Weltranglisten-Fünften': 3892, 'tagt': 3893, 'Weltranglistenerste': 3894, 'südamerikanischen': 3895, 'Scuderia': 3896, 'Wettbewerbs': 3897, 'Scout': 3898, 'Wettbewerbsbehörde': 3899, 'Schützlinge': 3900, 'Wettkampf': 3901, 'regionalen': 3902, 'Weit': 3903, 'Zeitschrift': 3904, 'Wala': 3905, 'Vorletzten': 3906, 'Vorsitzenden': 3907, 'Siebente': 3908, 'Vorsorgeprinzip': 3909, 'Vorstandsvorsitzender': 3910, 'WM-Geschichte': 3911, 'Wachstumstreiber': 3912, 'Wahrscheinlich': 3913, 'Shop': 3914, 'Sender': 3915, 'Waldstadion': 3916, 'Shkreli': 3917, 'Shenzhen': 3918, 'Warnungen': 3919, 'Session': 3920, 'Watzke': 3921, 'Wein': 3922, 'Senior': 3923, 'Wiedersehen': 3924, 'regional': 3925, 'Willibald': 3926, 'Wörthersee': 3927, 'Wutti': 3928, 'Schwarzen': 3929, 'Wärme': 3930, 'stundenlang': 3931, 'Wölfe': 3932, 'stufte': 3933, 'Schultes': 3934, 'Schulterverletzung': 3935, 'studieren': 3936, 'Windkraft': 3937, 'strömen': 3938, 'Yasin': 3939, 'Yaya': 3940, 'Zehntausende': 3941, 'Zehnter': 3942, 'Schuldentragfähigkeit': 3943, 'Zeitdruck': 3944, 'Schuldenkrise': 3945, 'Wut': 3946, 'Wurden': 3947, 'Wunschspieler': 3948, 'Wozu': 3949, 'Windkraftanlagen': 3950, 'Schörghofer': 3951, 'Winfried': 3952, 'Winters': 3953, 'Schönegger': 3954, 'Winterspiele': 3955, 'Schäfer': 3956, 'Schwimmen': 3957, 'suchte': 3958, 'Wirkungsstätte': 3959, 'substanzielle': 3960, 'meistens': 3961, 'Schweizers': 3962, 'Wirtschaftssanktionen': 3963, 'stürmte': 3964, 'stört': 3965, 'stärkeren': 3966, 'aberkannt': 3967, 'verliere': 3968, 'Energieeffizienz': 3969, 'Kwjat': 3970, 'Apropos': 3971, 'Kürzeren': 3972, 'Küchen': 3973, 'Küche': 3974, 'wissenschaftliche': 3975, 'Arbeitgebers': 3976, 'Körzell': 3977, 'viereinhalb': 3978, 'Arbeitsstiftung': 3979, 'Garden': 3980, 'Käufe': 3981, 'Kärntnern': 3982, 'Kärntnerin': 3983, 'Kyrgios': 3984, 'Kvasina': 3985, 'Gastgewerbe': 3986, 'Garmisch': 3987, 'Gas-': 3988, 'Architekten': 3989, 'notfalls': 3990, 'Arda': 3991, 'viertes': 3992, 'Argentiniens': 3993, 'Gaslieferungen': 3994, 'Argumente': 3995, 'Kursverlauf': 3996, 'Kurssturz': 3997, 'Ölkonzerns': 3998, 'viertplatzierten': 3999, 'Gaspreise': 4000, 'Ölproduktion': 4001, 'Galatasaray': 4002, 'Anzeigen': 4003, 'LAT': 4004, 'organisierte': 4005, 'Lebensqualität': 4006, 'Dementsprechend': 4007, 'Österreichers': 4008, 'Führungskräfte': 4009, 'Lebensmittelhandel': 4010, 'Anreize': 4011, 'woher': 4012, 'verzögert': 4013, 'Anschlägen': 4014, 'Laufzeitende': 4015, 'Laufbestzeit': 4016, 'Führungstor': 4017, 'Lasten': 4018, 'Fünften': 4019, 'Antonitsch': 4020, 'Larry': 4021, 'potenziell': 4022, 'Langzeitarbeitslose': 4023, 'Landwirtschaftsministerium': 4024, 'Fürth': 4025, 'Landesbank': 4026, 'Gabriele': 4027, 'Dekker': 4028, 'Lafferty': 4029, 'Lafazanis': 4030, 'Anwaltskanzlei': 4031, 'verbliebenen': 4032, 'Gael': 4033, 'Ölkonzern': 4034, 'Arme': 4035, 'Know-how': 4036, 'Kompetenzcheck': 4037, 'Auslagerung': 4038, 'notierten': 4039, 'Ausreißer': 4040, 'vorangetrieben': 4041, 'Konsequenz': 4042, 'Konsens': 4043, 'vorantreiben': 4044, 'Ausrutscher': 4045, 'Ausschüttung': 4046, 'Geldstrafen': 4047, 'vorausgesetzt': 4048, 'Ausstattung': 4049, 'Geldwäscherei': 4050, 'Konditionen': 4051, 'Austrianer': 4052, 'Astra': 4053, 'Kompany': 4054, 'Komitees': 4055, 'Auswertung': 4056, 'Auswirkung': 4057, 'Auswärtsspiele': 4058, 'Kollision': 4059, 'Kollektiv': 4060, 'Autohändler': 4061, 'Crowdinvesting-Plattformen': 4062, 'Kohlendioxid': 4063, 'Crew': 4064, 'Kohl': 4065, 'Energieminister': 4066, 'Automobilindustrie': 4067, 'Ausgleichszahlungsfonds': 4068, 'Ausgerechnet': 4069, 'DB': 4070, 'Kontext': 4071, 'Kräftemessen': 4072, 'Kruse': 4073, 'Kronthaler': 4074, 'Atherton': 4075, 'Athlet': 4076, 'Kreuzer': 4077, 'Daniele': 4078, 'Daniela': 4079, 'Atzenbrugg': 4080, 'Dan': 4081, 'Kreditvergabe': 4082, 'Gegend': 4083, 'Kreditnehmer': 4084, 'Aufseiten': 4085, 'Kreditkarte': 4086, 'Gegentoren': 4087, 'Krasnodar': 4088, 'Gegenüber': 4089, 'Kraftwerke': 4090, 'Geheimnis': 4091, 'Auftaktspiel': 4092, 'Kraftfahrt-Bundesamt': 4093, 'Korytko': 4094, 'Korrektur': 4095, 'vollständige': 4096, 'Augusta': 4097, 'Ausbeute': 4098, 'Ausdruck': 4099, 'positives': 4100, 'Fäden': 4101, 'Lech': 4102, 'Andrey': 4103, 'Abschneiden': 4104, 'Marriott': 4105, 'zurückziehen': 4106, 'p.a.': 4107, 'verstärkte': 4108, 'Abhilfe': 4109, 'Abkommens': 4110, 'Dombrovskis': 4111, 'Force': 4112, 'Marktumfeld': 4113, 'Formen': 4114, 'Marek': 4115, 'Dober': 4116, 'Fortdauer': 4117, 'Disziplinar': 4118, 'Abschottung': 4119, 'Andorra': 4120, 'Abspaltung': 4121, 'Maksimenko': 4122, 'Absprachen': 4123, 'Diskriminierung': 4124, 'Main': 4125, 'Fraktionen': 4126, 'Mail': 4127, 'Mahringer': 4128, 'Madrider': 4129, 'Made': 4130, 'MEL': 4131, 'Abteilungsleiterin': 4132, 'Abweichungen': 4133, 'Abwesenheit': 4134, 'Abendspiel': 4135, 'Massenstart': 4136, 'verstorbenen': 4137, 'Abbaugesellschaft': 4138, '=': 4139, 'Dortmunds': 4140, 'AAA': 4141, 'Mehrkosten': 4142, 'AB': 4143, 'Doris': 4144, 'Medizin': 4145, 'probieren': 4146, 'AFP': 4147, 'Flug': 4148, 'Fluggesellschaft': 4149, 'versprochenen': 4150, 'AKH': 4151, 'Mechaniker': 4152, 'Maßnahmenpaket': 4153, 'Flughafens': 4154, 'AMS-Frühwarnsystem': 4155, 'Maße': 4156, 'ASI': 4157, 'versteckt': 4158, 'ATP': 4159, 'Doralt': 4160, 'Maurizio': 4161, 'Matthä': 4162, 'zurücktreten': 4163, 'Flugzeug': 4164, 'Donnerstagnachmittag': 4165, 'Matschiners': 4166, 'Mathieu': 4167, 'Löwen': 4168, 'Löhnen': 4169, 'realisiert': 4170, 'Lingus': 4171, 'Algerien': 4172, 'Life': 4173, 'All-in-Verträge': 4174, 'Funktionen': 4175, 'Lieferinger': 4176, 'Lieferant': 4177, 'Übergang': 4178, 'Übergabe': 4179, 'Alpen': 4180, 'Alta': 4181, 'Altersteilzeit': 4182, 'Deportivo': 4183, 'Levante': 4184, 'Letzteres': 4185, 'wohnt': 4186, 'Denk': 4187, 'Fußball-EM': 4188, 'Deni': 4189, 'Leonhard': 4190, 'Fußball-Nationalteam': 4191, 'Leoben': 4192, 'Amerikanerin': 4193, 'Ametsreiter': 4194, 'nix': 4195, 'Demut': 4196, 'Analyst': 4197, 'Fußball-Verband': 4198, 'Lehrabschluss': 4199, 'Ancelotti': 4200, 'Alcacer': 4201, 'Dickgreber': 4202, 'Fred': 4203, 'Guger': 4204, 'Achtelfinal-Hinspiel': 4205, 'Freeports': 4206, 'Direct': 4207, 'Admira-Trainer': 4208, 'Lugar': 4209, 'Adolf': 4210, 'Lucescu': 4211, 'Adrien': 4212, 'Lotus': 4213, 'Long': 4214, 'Digitalisierung': 4215, 'Aer': 4216, 'Afghanistan': 4217, 'Ai': 4218, 'Loipe': 4219, 'Lohnuntergrenze': 4220, 'Freshfields': 4221, 'verurteilte': 4222, 'Aida': 4223, 'Dietrich': 4224, 'Diess': 4225, 'Frieser': 4226, 'Aktienmarkt': 4227, 'Frisch': 4228, 'verwalten': 4229, 'Aktiva': 4230, 'Fristen': 4231, 'Dienstzeit': 4232, 'Früchte': 4233, 'Autounfall': 4234, 'Autozulieferer': 4235, 'Fix': 4236, 'Bezirkshauptmannschaft': 4237, 'Bewegungen': 4238, 'Gracia': 4239, 'Graham': 4240, 'Bewerbungen': 4241, 'Granada': 4242, 'Grand-Slam-Turnier': 4243, 'Carvalho': 4244, 'Bezahlen': 4245, 'Grasshoppers': 4246, 'Häusern': 4247, 'wesentlicher': 4248, 'Händchen': 4249, 'Carvajal': 4250, 'Hypo-Untersuchungsausschuss': 4251, 'Gratzei': 4252, 'Hitze': 4253, 'Hormechea': 4254, 'Honorar': 4255, 'Honigmayr': 4256, 'Caroline': 4257, 'Carmen': 4258, 'Holz': 4259, 'olympische': 4260, 'Hollande': 4261, 'werten': 4262, 'ÖAMTC': 4263, 'Gross': 4264, 'Hochzeit': 4265, 'Hochfrequenzhandel': 4266, 'Capital': 4267, 'Gouverneur': 4268, 'Gora': 4269, 'Cash': 4270, 'ISIN': 4271, 'Insolvenzentgeltfonds': 4272, 'Innovationen': 4273, 'Innkreis': 4274, 'Glauben': 4275, 'Bernard': 4276, 'Berufen': 4277, 'Beschuldigten': 4278, 'Ingrid': 4279, 'operativ': 4280, 'GmbH.': 4281, 'Besondere': 4282, 'Ingenieure': 4283, 'wagt': 4284, 'Informationsaustausch': 4285, 'Industriestaatenorganisation': 4286, 'Celta': 4287, 'Indianapolis': 4288, 'Besucher': 4289, 'politisches': 4290, 'Betis': 4291, 'Beton': 4292, 'ÖFB-Cup': 4293, 'Betreuung': 4294, 'wetten': 4295, 'Betriebsergebnis': 4296, 'wandern': 4297, 'Betriebsratschef': 4298, 'Casillas': 4299, 'IT': 4300, 'Groth': 4301, 'Großbanken': 4302, 'Außennetz': 4303, 'Buchmüller': 4304, 'oftmals': 4305, 'Brocken': 4306, 'Bruchteil': 4307, 'wendet': 4308, 'Hauptbewerb': 4309, 'Hauptbahnhof': 4310, 'Bänderriss': 4311, 'Brustwirbel': 4312, 'Haselsteiner': 4313, 'wenden': 4314, 'zweitplatzierte': 4315, 'Brüssel/Wien': 4316, 'Hans-Joachim': 4317, 'Hang': 4318, 'Budgetdefizit': 4319, 'Blut': 4320, 'Handeln': 4321, 'Gspurning': 4322, 'Burger': 4323, 'Bundesamt': 4324, 'Hals': 4325, 'Halbinsel': 4326, 'Haar': 4327, 'Bundestag': 4328, 'HIB': 4329, 'Güterverkehr': 4330, 'Bundesliga-Saison': 4331, 'Guus': 4332, 'Bundesligist': 4333, 'Guatemala': 4334, 'Brisbane': 4335, 'Brignone': 4336, 'zähle': 4337, 'weitergegeben': 4338, 'Cameron': 4339, 'Großkonzerne': 4340, 'Hexenkessel': 4341, 'Boltz': 4342, 'offensive': 4343, 'Bonitätsnote': 4344, 'Borenitsch': 4345, 'Borissow': 4346, 'Bosque': 4347, 'Ältere': 4348, 'pocht': 4349, 'Herstellern': 4350, 'Hersfeld': 4351, 'Grunddurchgang': 4352, 'Grunde': 4353, 'Hernadi': 4354, 'Ägypten': 4355, 'Cabolis': 4356, 'Helsinki': 4357, 'Helgi': 4358, 'Helga': 4359, 'Breel': 4360, 'Heldt': 4361, 'Heim-WM': 4362, 'CO2-Emissionen': 4363, 'weitergeben': 4364, 'Bresche': 4365, 'pochen': 4366, 'Börsianer': 4367, 'wachse': 4368, 'Integrität': 4369, 'Gladbacher': 4370, 'positionieren': 4371, 'Bankwohnungen': 4372, 'Kerschakow': 4373, 'Barbados': 4374, 'Kerr': 4375, 'Gerstenmayer': 4376, 'Kenia': 4377, 'Barometer': 4378, 'vorgeschlagenen': 4379, 'vorgesehenen': 4380, 'wiederholten': 4381, 'Kaymer': 4382, 'Kasten': 4383, 'ÖSV-Athleten': 4384, 'Baumarktkette': 4385, 'Kartellamt': 4386, 'Interessenvertretung': 4387, 'Kappe': 4388, 'Coaches': 4389, 'Kantine': 4390, 'Kante': 4391, 'vorherige': 4392, 'Kampl': 4393, 'Bayern-Trainer': 4394, 'zuzurechnen': 4395, 'wiederherzustellen': 4396, 'Clara': 4397, 'Kampfgeist': 4398, 'Beantwortung': 4399, 'Beat': 4400, 'Kaliber': 4401, 'Germanwings': 4402, 'Ketten': 4403, 'Continental': 4404, 'Keylor': 4405, 'Knasmüller': 4406, 'BG': 4407, 'Generalprokuratur': 4408, 'Coutinho': 4409, 'Genfer': 4410, 'Klein-': 4411, 'Kleidung': 4412, 'Klay': 4413, 'County': 4414, 'Baden-Württemberg': 4415, 'ÖSV-Team': 4416, 'Badia': 4417, 'Genugtuung': 4418, 'Klartext': 4419, 'Kitzbüheler': 4420, 'Baltimore': 4421, 'Kircher': 4422, 'Banca': 4423, 'Council': 4424, 'Band': 4425, 'Kimi': 4426, 'Bandbreite': 4427, 'Bankchef': 4428, 'Coruna': 4429, 'Kfz-Steuer': 4430, 'Bankenkrise': 4431, 'Bankpension': 4432, 'Keynes': 4433, 'Bankrott': 4434, 'polnischen': 4435, 'Cincinnati': 4436, 'Beeinträchtigung': 4437, 'Jason': 4438, 'Gewicht': 4439, 'Jankos': 4440, 'Jandl': 4441, 'Jammern': 4442, 'Jakupovic': 4443, 'Bekanntwerden': 4444, 'Belangen': 4445, 'ÖFB-Teamverteidiger': 4446, 'Beleg': 4447, 'vorwerfen': 4448, 'vorwiegend': 4449, 'Ivanschitz': 4450, 'Italienern': 4451, 'Gewinns': 4452, 'Italia': 4453, 'Gewährleistung': 4454, 'Isländer': 4455, 'Beliebtheit': 4456, 'Geyer': 4457, 'Irrtum': 4458, 'zwecks': 4459, 'Irish': 4460, 'Iren': 4461, 'Bemerkenswert': 4462, 'Gilbertson': 4463, 'Bendtner': 4464, 'ÖFB-Star': 4465, 'Giovanni': 4466, 'Chancenauswertung': 4467, 'Jaromir': 4468, 'Jeff': 4469, 'Ciccone': 4470, 'Gesundheitsministerium': 4471, 'Cican': 4472, 'Befragungen': 4473, 'Befreiungsschlag': 4474, 'Geschäftsleute': 4475, 'Befürchtung': 4476, 'Befürworter': 4477, 'Begeisterung': 4478, 'Begrenzung': 4479, 'K.o.-Runde': 4480, 'Jährlich': 4481, 'Jurist': 4482, 'Jugendarbeitslosigkeit': 4483, 'Christiane': 4484, 'Jubel': 4485, 'Joppich': 4486, 'Begutachtungsentwurf': 4487, 'Gesetzen': 4488, 'Behinderte': 4489, 'Gesichter': 4490, 'Johanna': 4491, 'polnische': 4492, 'Gesundheits-': 4493, 'vors': 4494, 'Jiri': 4495, 'Beides': 4496, 'widmet': 4497, 'Jerome': 4498, 'Jens': 4499, 'Jener': 4500, 'Flaute': 4501, 'Link': 4502, 'Bundesmeisterschaft': 4503, '195': 4504, 'Neururer': 4505, 'Neuregelung': 4506, '1963': 4507, 'überschattet': 4508, 'Neunte': 4509, '1959': 4510, 'Philosophie': 4511, 'E-Wirtschaft': 4512, '1954': 4513, 'Erzrivale': 4514, 'Falter': 4515, 'Neu': 4516, 'Fed-Chefin': 4517, 'Pique': 4518, '19.00': 4519, 'vernünftige': 4520, 'Netze': 4521, 'Planica': 4522, 'Fehlentscheidung': 4523, 'vergleichbaren': 4524, 'Eingriffen': 4525, '45-Jährige': 4526, 'Erwägung': 4527, '1976': 4528, 'Nikosia': 4529, 'Einfach': 4530, 'Einfrieren': 4531, 'Perspektiven': 4532, 'Nigerianer': 4533, 'Peters': 4534, '4.500': 4535, 'vermisst': 4536, '4.865': 4537, 'vermitteln': 4538, 'Estate': 4539, 'Pflichtsieg': 4540, 'Nie': 4541, 'Pfosten': 4542, 'Nicklas': 4543, 'Fahrzeughalter': 4544, '44-Jährige': 4545, '1972': 4546, 'Neuzulassungen': 4547, 'Fairness': 4548, 'Nettoeinkommen': 4549, 'Dutzende': 4550, '6,9': 4551, 'Praktisch': 4552, 'Pool': 4553, '153': 4554, 'zeichnet': 4555, 'Posen': 4556, 'Nachschuss': 4557, 'Nachhaltigkeit': 4558, 'Ersparnis': 4559, 'übersiedeln': 4560, 'Erschließung': 4561, 'verringerte': 4562, 'neunte': 4563, 'Festnahmen': 4564, 'Nachbarn': 4565, '14.00': 4566, 'Preises': 4567, 'Pressegespräch': 4568, '5:5': 4569, '5:6': 4570, 'zukommt': 4571, 'versagt': 4572, 'Pommer': 4573, 'Ersparnisse': 4574, 'Erwerbstätigen': 4575, '180.000': 4576, 'Einkaufen': 4577, 'überarbeiten': 4578, '189': 4579, 'Neo-Coach': 4580, 'Platte': 4581, 'Negativlauf': 4582, 'überschreiten': 4583, 'vergehen': 4584, 'Femke': 4585, 'passiv': 4586, '17.30': 4587, 'neuesten': 4588, 'österreichisches': 4589, 'Polcanova': 4590, 'Nah': 4591, 'Durststrecke': 4592, 'Ferse': 4593, 'Nachweis': 4594, 'Politewitsch': 4595, '170': 4596, 'Perchtold': 4597, '4.0': 4598, 'Pensionsversicherungsanstalt': 4599, '3.600': 4600, 'Ofisi': 4601, 'Paks': 4602, 'EU-Finanzminister': 4603, '2:1-Erfolg': 4604, 'Offert': 4605, 'professionell': 4606, '2:6': 4607, 'EU-Austritt': 4608, '21.05': 4609, 'Oberschenkelverletzung': 4610, '22,8': 4611, 'Ex-Finanzminister': 4612, 'FAC-Platz': 4613, '2024': 4614, '3/1': 4615, 'Oberschenkelprobleme': 4616, 'Obamas': 4617, 'Eduard': 4618, 'Paraguay': 4619, '31-jährige': 4620, 'zurückgefallen': 4621, 'Olaf': 4622, 'Fahrern': 4623, 'Ebenen': 4624, '23-jährigen': 4625, '23-Jährigen': 4626, 'Ostern': 4627, '237': 4628, 'Osborne': 4629, '24-jährigen': 4630, 'EU-Schnitt': 4631, 'verlagert': 4632, '229': 4633, 'überleben': 4634, 'Olarenwaju': 4635, 'Organisator': 4636, 'Pablo': 4637, 'EU-Kommissar': 4638, 'Optik': 4639, 'Painsy': 4640, 'Ecken': 4641, 'Olimpija': 4642, 'Oleg': 4643, '278': 4644, 'verlorenem': 4645, '32-Jährige': 4646, 'Parallelspiel': 4647, 'Pensionsfonds': 4648, 'verhältnismäßig': 4649, 'Eier': 4650, '3:1-Führung': 4651, 'Eurogruppen-Chef': 4652, 'Pekinger': 4653, 'Notbremse': 4654, 'Norwich': 4655, 'Euro-Austritt': 4656, 'zurückgekommen': 4657, 'Facebook-Seite': 4658, 'verklagt': 4659, 'zurückgekämpft': 4660, 'EHC': 4661, 'Noriaki': 4662, 'zunehmenden': 4663, 'Nordischen': 4664, 'Fachleute': 4665, 'Fahren': 4666, 'Nordic': 4667, 'EBA': 4668, '380': 4669, '1989': 4670, '1990er-Jahre': 4671, 'überragend': 4672, 'Effenberg': 4673, 'rasanten': 4674, 'Ex-Austrianer': 4675, '2008/09': 4676, '340': 4677, '35-Jährige': 4678, 'prognostizierten': 4679, '3500': 4680, 'zerstören': 4681, 'neuem': 4682, 'Partners': 4683, 'Events': 4684, 'Nou': 4685, 'Effizienzsteigerung': 4686, '36-jährige': 4687, '20-Jährige': 4688, 'Efsa': 4689, '37,5': 4690, '1:0)Tore': 4691, '6,2': 4692, '18.00': 4693, 'Erreichung': 4694, 'Mio': 4695, '8,50': 4696, '10,9': 4697, 'Mitarbeiterinnen': 4698, 'Emittenten': 4699, 'Pyeongchang': 4700, 'Mirza': 4701, 'Miroslav': 4702, 'Mirantschuk': 4703, 'verdauen': 4704, 'vereinfacht': 4705, 'Empfang': 4706, 'Entschädigung': 4707, 'Drogeriekette': 4708, 'Qualifikantin': 4709, 'Finanzprokuratur': 4710, 'überzeugenden': 4711, 'Quartier': 4712, '8./PP': 4713, 'Emirate': 4714, 'Finanzministers': 4715, 'ökonomischen': 4716, '103': 4717, 'Profitabilität': 4718, 'äußert': 4719, 'vereinbarte': 4720, 'Erfolgsserie': 4721, 'Elferschießen': 4722, 'Prolog': 4723, 'Elfmeterpunkt': 4724, 'Protokolle': 4725, '112': 4726, '75.000': 4727, '109': 4728, 'Mittelstand': 4729, 'Mittellinie': 4730, 'Provinzen': 4731, 'verschoss': 4732, 'Provision': 4733, 'Prozentsatz': 4734, 'verbundenen': 4735, 'Entgelte': 4736, '8.000': 4737, 'ältesten': 4738, '9,6': 4739, '9,7': 4740, 'Firmenchef': 4741, 'Microsoft': 4742, 'Drazan': 4743, 'Mich': 4744, 'Raiffeisenbank': 4745, 'ähnliches': 4746, 'Drama': 4747, 'wütend': 4748, '0/1': 4749, 'verbracht': 4750, 'Mersch': 4751, \"'s\": 4752, 'qualifizierten': 4753, 'übt': 4754, 'übte': 4755, 'peilt': 4756, '0:1-Heimniederlage': 4757, 'Ministererlaubnis': 4758, 'Energieverbrauch': 4759, 'Mindestens': 4760, '1,20': 4761, 'End': 4762, 'Querrey': 4763, 'ärgerlich': 4764, 'Millionenbetrag': 4765, 'Enden': 4766, 'Rabitsch': 4767, 'Racing': 4768, 'Radfahren': 4769, 'Milliardenhöhe': 4770, 'Finanzströme': 4771, '0:5': 4772, 'Radio': 4773, 'Finanzverfassung': 4774, 'zugesagten': 4775, 'Finger': 4776, 'vereinfachen': 4777, 'Mitfavoriten': 4778, 'EU-weiten': 4779, 'Mund': 4780, 'Prinzipien': 4781, 'zurückhaltend': 4782, 'Erklärungen': 4783, 'überstehen': 4784, 'Finanzbedarf': 4785, 'Finanzausgleich': 4786, 'Profiliga': 4787, '12.00': 4788, 'Möglicherweise': 4789, 'äußerten': 4790, 'Eisenstadt': 4791, 'Profit': 4792, 'übertrieben': 4793, 'Ermittlungsverfahren': 4794, 'Einzig': 4795, 'Dudenhöffer': 4796, 'Proben': 4797, 'NBA-Champion': 4798, 'Filip': 4799, 'ökonomische': 4800, 'Eler': 4801, 'Einzelnen': 4802, 'Filiale': 4803, 'Erfüllung': 4804, '7,6': 4805, 'ökologisch': 4806, 'Filialnetz': 4807, 'Muhr': 4808, '138': 4809, 'Monet': 4810, 'das': 4811, 'geht': 4812, 'Auftrag': 4813, '85': 4814, 'folgt': 4815, 'Toronto': 4816, 'Natürlich': 4817, 'handelt': 4818, 'Chinas': 4819, 'n': 4820, 'Sicherheit': 4821, 'forderte': 4822, 'AMS': 4823, 'Georg': 4824, 'betont': 4825, 'Konkurrenz': 4826, 'Wiesberger': 4827, 'sowohl': 4828, 'immerhin': 4829, 'kritisiert': 4830, 'Schalke': 4831, '44': 4832, '49': 4833, 'sprechen': 4834, 'Freund': 4835, 'Hersteller': 4836, 'Turnier': 4837, 'BIP': 4838, 'ins': 4839, 'Austria': 4840, 'Ende': 4841, 'Halbjahr': 4842, 'geschlossen': 4843, 'Knie': 4844, 'glaube': 4845, 'Europas': 4846, 'veröffentlicht': 4847, 'wichtige': 4848, 'Monat': 4849, 'Sollte': 4850, '59': 4851, 'Zoran': 4852, 'Damen': 4853, 'Sinn': 4854, 'kleine': 4855, 'gerne': 4856, 'gefallen': 4857, 'rasch': 4858, 'Bedingungen': 4859, 'Franken': 4860, 'Einführung': 4861, 'Ziele': 4862, 'uns': 4863, 'Mit': 4864, 'seiner': 4865, 'ihre': 4866, 'Milliarden': 4867, 'Fonds': 4868, '65': 4869, 'Abend': 4870, 'Deshalb': 4871, 'verzichten': 4872, 'hofft': 4873, 'Bremen': 4874, 'Capitals': 4875, 'Vorstand': 4876, 'Niederlagen': 4877, '42': 4878, '41': 4879, 'Viertel': 4880, 'Sieger': 4881, 'ehemaligen': 4882, 'Messi': 4883, 'Rumänien': 4884, 'Rund': 4885, '73': 4886, 'Regeln': 4887, 'betroffenen': 4888, 'Chicago': 4889, 'bisschen': 4890, 'Rückgang': 4891, 'Moment': 4892, 'Damals': 4893, 'Ist': 4894, 'Ökonomen': 4895, 'zu': 4896, 'diese': 4897, ':': 4898, 'Unternehmen': 4899, 'worden': 4900, 'vier': 4901, 'Italiener': 4902, '57': 4903, 'Rom': 4904, 'Möglichkeiten': 4905, 'Neustadt': 4906, 'Bild': 4907, 'beispielsweise': 4908, 'zusätzlich': 4909, 'verletzt': 4910, 'Blatter': 4911, 'Anwalt': 4912, 'Märkte': 4913, 'Metern': 4914, 'verhindern': 4915, 'Haider-Maurer': 4916, 'Murray': 4917, 'Dritter': 4918, 'Schlusslicht': 4919, 'Tirol': 4920, 'solchen': 4921, '86': 4922, 'englischen': 4923, 'Verlust': 4924, 'Vastic': 4925, 'überzeugt': 4926, '77': 4927, 'niemand': 4928, 'Ein': 4929, 'Mayröcker': 4930, 'Leverkusen': 4931, 'unbedingt': 4932, 'Keine': 4933, 'Vienna': 4934, 'möglichen': 4935, 'sorgen': 4936, 'Zeidler': 4937, 'sechsten': 4938, 'Luft': 4939, 'gearbeitet': 4940, 'Stellungnahme': 4941, 'politische': 4942, 'Hintergrund': 4943, 'sonst': 4944, 'M.': 4945, 'hielt': 4946, 'Zur': 4947, 'wobei': 4948, 'Zuge': 4949, 'Maria': 4950, 'Basis': 4951, 'Gesetz': 4952, 'Ansicht': 4953, 'ändern': 4954, 'schlug': 4955, 'Endspiel': 4956, '87': 4957, 'Ab': 4958, 'für': 4959, 'Spiel': 4960, 'Bei': 4961, 'ist': 4962, 'wegen': 4963, 'indes': 4964, 'Pressekonferenz': 4965, 'bekam': 4966, 'nationalen': 4967, 'nahe': 4968, 'Group': 4969, 'leisten': 4970, 'Interesse': 4971, 'schaffte': 4972, 'Kiew': 4973, '52': 4974, 'Mercedes': 4975, '76': 4976, 'notwendig': 4977, 'her': 4978, 'Truppe': 4979, 'Zwar': 4980, 'Schaden': 4981, 'glauben': 4982, 'beschlossen': 4983, 'gewinnt': 4984, 'gestartet': 4985, '66': 4986, 'somit': 4987, 'Gazprom': 4988, 'Die': 4989, 'nicht': 4990, 'weiter': 4991, 'Verteidiger': 4992, 'Rio': 4993, 'Schaub': 4994, 'gefährlich': 4995, 'außerdem': 4996, 'Unternehmer': 4997, '4:0': 4998, 'Geschäfte': 4999}\n"
          ],
          "name": "stdout"
        }
      ]
    },
    {
      "cell_type": "code",
      "metadata": {
        "colab": {
          "base_uri": "https://localhost:8080/"
        },
        "id": "TCNp3nn4CAhq",
        "outputId": "ff958e51-911e-4b06-e748-35b34f84c0ad"
      },
      "source": [
        "#format train data\n",
        "#neccessary structure for train data: (['The', 'dog', 'ate', 'the', 'apple'], ['Sport'])\n",
        "\n",
        "train_data = train_tokens.copy()\n",
        "for idx, tokens in enumerate(train_data):\n",
        "  \n",
        "  label = df_train.loc[idx, \"Topic\"]\n",
        "  train_data[idx] = (tokens, [label])\n",
        "\n",
        "print(train_data[0])\n",
        "\n",
        "#format test data\n",
        "test_data = test_tokens.copy()\n",
        "for idx, tokens in enumerate(test_data):\n",
        "  \n",
        "  label = df_test.loc[idx, \"Topic\"]\n",
        "  test_data[idx] = (tokens, [label])\n",
        "\n",
        "print(test_data[0])"
      ],
      "execution_count": null,
      "outputs": [
        {
          "output_type": "stream",
          "text": [
            "(['21-Jähriger', 'fällt', 'wohl', 'bis', 'Saisonende', 'aus', '.', 'Wien', '–', 'Rapid', 'muss', 'wohl', 'bis', 'Saisonende', 'auf', 'Offensivspieler', 'Thomas', 'Murg', 'verzichten', '.', 'Der', 'im', 'Winter', 'aus', 'Ried', 'gekommene', '21-Jährige', 'erlitt', 'beim', '0:4-Heimdebakel', 'gegen', 'Admira', 'Wacker', 'Mödling', 'am', 'Samstag', 'einen', 'Teilriss', 'des', 'Innenbandes', 'im', 'linken', 'Knie', ',', 'wie', 'eine', 'Magnetresonanz-Untersuchung', 'am', 'Donnerstag', 'ergab', '.', 'Murg', 'erhielt', 'eine', 'Schiene', ',', 'muss', 'aber', 'nicht', 'operiert', 'werden', '.', 'Dennoch', 'steht', 'ihm', 'eine', 'mehrwöchige', 'Pause', 'bevor', '.'], ['Sport'])\n",
            "(['Die', 'Gewerkschaft', 'GPA-djp', 'lanciert', 'den', '\"', 'All-in-Rechner', '\"', 'und', 'findet', ',', 'dass', 'die', 'Vertragsform', 'auf', 'die', 'Führungsebene', 'beschränkt', 'gehört', '.', 'Wien', '–', 'Die', 'Gewerkschaft', 'GPA-djp', 'sieht', 'Handlungsbedarf', 'bei', 'sogenannten', 'All-in-Verträgen', '.', 'Für', 'mehr', 'Transparenz', 'haben', 'die', 'Gewerkschaft', 'nun', 'unter', 'www.allinrechner.at', 'ein', 'Online-Werkzeug', 'lanciert', ',', 'das', 'Arbeitnehmern', 'mit', 'solchen', 'Verträgen', 'helfen', 'soll', ',', 'sich', 'einen', 'Überblick', 'zu', 'verschaffen', '.', 'Es', 'geht', 'darum', ',', 'ob', 'die', 'Differenz', 'zum', 'Grundgehalt', 'nicht', 'womöglich', 'eine', 'zu', 'geringe', 'ist', '.', 'Schließlich', 'sei', 'ein', 'All-in-Gehalt', 'oft', 'nur', 'auf', 'den', 'ersten', 'Blick', 'von', 'Vorteil', ',', 'gab', 'GPA-djp-Chef', 'Wolfgang', 'Katzian', '(', 'SPÖ', ')', 'am', 'Montag', 'bei', 'einer', 'Pressekonferenz', 'in', 'Wien', 'zu', 'bedenken', '.', 'Allzu', 'oft', 'sei', 'bei', 'der', 'All-in-Entlohnung', 'nur', 'schwer', 'nachvollziehbar', ',', 'wie', 'viele', 'Überstunden', 'und', 'Mehrleistungen', 'damit', 'tatsächlich', 'abgegolten', 'werden', '.', 'Ein', 'erster', 'guter', 'Schritt', 'aus', 'gewerkschaftlicher', 'Sicht', 'ist', 'Katzian', 'zufolge', 'zwar', 'eine', 'seit', 'Ende', 'Vorjahr', 'gültige', 'Gesetzesänderung', ',', 'die', 'besagt', ',', 'dass', 'das', 'Grundgehalt', 'bei', 'All-in-Verträgen', 'in', 'Ziffern', 'auszuweisen', 'ist', '.', 'So', 'werden', 'über', 'die', 'Normalarbeitszeit', 'hinausgehende', 'Pauschalabgeltungen', 'und', 'andere', 'Mehrleistungen', 'sichtbar', '.', 'Das', 'ist', 'der', 'Gewerkschaft', 'aber', 'zu', 'wenig', ',', 'denn', 'die', 'ursprünglich', 'für', 'Führungskräfte', 'gedachte', 'Pauschalabgeltung', 'sei', 'längst', 'in', 'allen', 'Branchen', 'in', 'allen', 'Ebenen', 'von', 'den', 'Führungsebenen', 'abwärts', 'zu', 'Angestellten', 'und', 'Arbeitern', 'eingezogen', '.', 'So', 'hätten', 'bereits', '18', 'Prozent', 'der', 'Arbeiter', 'einen', 'All-in-Vertrag', ',', 'laut', 'Arbeitsklimaindex', 'der', 'AK', 'Oberösterreich', '.', 'Im', 'Bauwesen', 'liege', 'der', 'Anteil', 'bei', '27', 'Prozent', '.', 'Der', 'allinrechner.at', 'mache', 'aber', 'auch', 'bestehende', 'Verträge', 'transparenter', '.', 'Einige', 'anonyme', 'Angaben', 'zur', 'Beschäftigungssituation', 'reichen', ',', 'um', 'das', 'Grundgehalt', '–', 'und', 'vor', 'allem', 'etwaige', 'Gehaltsverluste', '–', 'zu', 'ermitteln', '.', 'Unklarheiten', 'sollen', 'Betroffene', 'dann', 'bei', 'ihrem', 'Betriebsrat', 'oder', 'bei', 'GPA-djp-Experten', 'abklären', '.', 'Katzian', 'nannte', 'für', 'seine', 'Gewerkschaft', 'eine', 'Vielzahl', 'von', 'Forderungen', 'zu', 'All-in-Verträgen', '.', 'Vor', 'allem', 'sollen', 'sich', 'All-in-Verträge', 'wie', 'ursprünglich', 'vorgesehen', 'wieder', 'auf', 'Mitarbeiter', 'mit', 'Führungsverantwortung', 'beschränken', '.', 'Überlegt', 'werde', 'auch', '–', 'das', 'ist', 'eine', 'Forderung', 'an', 'uns', 'selbst', '–', 'künftig', 'bei', 'KV-Verhandlungen', 'Muster', 'für', 'All-in-Verträge', 'mitzuverhandlen', '.', 'All-in-Verträge', 'solle', 'es', 'auch', 'nur', 'mit', 'einer', 'wesentlichen', 'Überzahlung', 'zum', 'branchenüblichen', 'Grundgehalt', 'geben', ';', 'dazu', 'gehörten', 'auch', 'regelmäßige', 'Valorisierungen', 'einhergehend', 'mit', 'KV-Erhöhungen', '.', 'Mitarbeiter', 'sollen', 'zudem', 'jederzeit', 'die', 'Möglichkeit', 'haben', ',', 'wieder', 'aus', 'All-in', 'auszusteigen', '.', 'All-in-Regelungen', 'sollten', 'laut', 'dem', 'GPA-djp-Chef', 'nur', 'betriebsübliche', 'Arbeitszeiten', 'und', '-leistungen', 'abdecken', '.', 'Darüber', 'hinausgehende', 'Leistungen', 'des', 'Arbeitnehmers', 'wie', 'Sonntagsdienste', 'sollen', 'gesondert', 'abgegolten', 'werden', '.', 'Bleiben', 'müsse', 'den', 'Arbeitnehmern', 'vor', 'allem', 'auch', 'die', 'freie', 'Wahl', 'zwischen', 'Entlohnung', 'auf', 'Einzelstundenbasis', 'oder', 'All-in', '.'], ['Wirtschaft'])\n"
          ],
          "name": "stdout"
        }
      ]
    },
    {
      "cell_type": "code",
      "metadata": {
        "id": "CbjAHK2LF4De"
      },
      "source": [
        "def prepare_sequence(seq, to_ix):\n",
        "  idxs = []\n",
        "  for word in seq:\n",
        "    #skip not existing words in dict\n",
        "    if word in to_ix:\n",
        "      idxs.append(to_ix[word])\n",
        "  return torch.tensor(idxs, dtype=torch.long)"
      ],
      "execution_count": null,
      "outputs": []
    },
    {
      "cell_type": "code",
      "metadata": {
        "colab": {
          "base_uri": "https://localhost:8080/"
        },
        "id": "8HvibSUAFRfS",
        "outputId": "83ad5a29-9965-4d20-98c1-b29eb8c59afc"
      },
      "source": [
        "#testing if sequence mapping for tags and sentence works\n",
        "for sentence, tags in train_data[:1]:\n",
        "  print(prepare_sequence(sentence, word_to_ix))"
      ],
      "execution_count": null,
      "outputs": [
        {
          "output_type": "stream",
          "text": [
            "tensor([1943, 3205, 1978, 3311, 4872, 3246, 3211, 2733,   59,   90, 3246, 4844,\n",
            "         586, 1978, 4990, 3242])\n"
          ],
          "name": "stdout"
        }
      ]
    },
    {
      "cell_type": "code",
      "metadata": {
        "colab": {
          "base_uri": "https://localhost:8080/"
        },
        "id": "T1UNDSUw9goN",
        "outputId": "0e023ac9-c6e9-432a-f4d8-bf43cb3fcff4"
      },
      "source": [
        "class LSTMTagger(nn.Module):\n",
        "\n",
        "    def __init__(self, embedding_dim, hidden_dim, vocab_size, tagset_size):\n",
        "        super(LSTMTagger, self).__init__()\n",
        "        self.hidden_dim = hidden_dim\n",
        "      ### mapping from 5000 Vocabs to 128 embedding dim\n",
        "        self.word_embeddings = nn.Embedding(vocab_size, embedding_dim)\n",
        "\n",
        "        # The LSTM takes word embeddings as inputs, and outputs hidden states\n",
        "        # with dimensionality hidden_dim.\n",
        "        self.lstm = nn.LSTM(embedding_dim, hidden_dim)\n",
        "\n",
        "        # The linear layer that maps from hidden state space to tag space\n",
        "        self.hidden2tag = nn.Linear(hidden_dim, tagset_size)\n",
        "\n",
        "    def forward(self, sentence):\n",
        "        embeds = self.word_embeddings(sentence)\n",
        "        lstm_out, _ = self.lstm(embeds.view(len(sentence), 1, -1))\n",
        "        tag_space = self.hidden2tag(lstm_out.view(len(sentence), -1))\n",
        "        tag_scores = F.log_softmax(tag_space, dim=1)\n",
        "        return tag_scores   ###outputs scores for each word. The last score represents the score for the whole sentence\n",
        "        \n",
        "correct = 0\n",
        "total = 0\n",
        "EMBEDDING_DIM = 128\n",
        "HIDDEN_DIM = 256\n",
        "device = torch.device(\"cuda:0\" if torch.cuda.is_available() else \"cpu\")\n",
        "print(f\"Running on {device}\")\n",
        "\n",
        "model = LSTMTagger(EMBEDDING_DIM, HIDDEN_DIM, len(word_to_ix), len(tag_to_ix))\n",
        "loss_function = nn.NLLLoss()\n",
        "optimizer = optim.SGD(model.parameters(), lr=0.1)\n",
        "model.to(device)\n",
        "\n",
        "# See what the scores are before training\n",
        "# Note that element i,j of the output is the score for tag j for word i.\n",
        "# Here we don't need to train, so the code is wrapped in torch.no_grad()\n",
        "# with torch.no_grad():\n",
        "    # inputs = prepare_sequence(train_data[0][0], word_to_ix)\n",
        "    # tag_scores = model(inputs)\n",
        "    # print(tag_scores)\n",
        "\n",
        "for epoch in range(5):  \n",
        "    training_time = 0\n",
        "    for sentence, topic in train_data:\n",
        "        #start logging the training time\n",
        "        start = time.perf_counter()\n",
        "\n",
        "        # Step 1. Remember that Pytorch accumulates gradients.\n",
        "        # We need to clear them out before each instance\n",
        "        model.zero_grad()\n",
        "\n",
        "        # Step 2. Get our inputs ready for the network, that is, turn them into\n",
        "        # Tensors of word indices.\n",
        "          \n",
        "        sentence_in = prepare_sequence(sentence, word_to_ix)   ##words ->embeddings\n",
        "        targets = prepare_sequence(topic, tag_to_ix)   ## targets->embeddings\n",
        "        sentence_in.to(device)\n",
        "        targets.to(device)\n",
        "\n",
        "        # # Step 3. Run our forward pass.\n",
        "        tag_scores = model(sentence_in)\n",
        "        #get last prediction\n",
        "        output = tag_scores[-1]   #takes only the last score\n",
        "\n",
        "        prediction = (output.argmax(0) == targets).sum().item() ##takes the index with higher prob.\n",
        "        correct += prediction\n",
        "        total += 1\n",
        "\n",
        "        output = torch.reshape(output, (1, -1)) #reshape into loss function format\n",
        "\n",
        "        # Step 4. Compute the loss, gradients, and update the parameters by\n",
        "        loss = loss_function(output, targets)\n",
        "        logged_loss = loss.data\n",
        "\n",
        "        loss.backward()\n",
        "        optimizer.step()\n",
        "\n",
        "        #end logging the training time\n",
        "        end = time.perf_counter()\n",
        "        training_time += (end-start)\n",
        "###accuracy is calculated for each epoche\n",
        "    acc =  100 * correct / total\n",
        "    print(f\"Epoch: {epoch+1} | trained in {round(training_time/60., 2)} minutes\")\n",
        "    print(f\"Train Accuracy: {acc}% \\t Loss: {logged_loss}\")\n",
        "    \n",
        "\n",
        "\n",
        "    test_correct = 0\n",
        "    test_total = 0\n",
        "    for sentence, topic in test_data:\n",
        "      sentence_in = prepare_sequence(sentence, word_to_ix)\n",
        "      targets = prepare_sequence(topic, tag_to_ix)\n",
        "      sentence_in.to(device)\n",
        "      targets.to(device)\n",
        "      tag_scores = model(sentence_in)\n",
        "      output = tag_scores[-1]\n",
        "\n",
        "      prediction = (output.argmax(0) == targets).sum().item()\n",
        "      test_correct += prediction\n",
        "      test_total += 1\n",
        "\n",
        "    test_acc =  100 * test_correct / test_total\n",
        "    print(f\"Test Accuracy: {test_acc}%\\n\")    "
      ],
      "execution_count": null,
      "outputs": [
        {
          "output_type": "stream",
          "text": [
            "Running on cuda:0\n",
            "Epoch: 1 | trained in 0.51 minutes\n",
            "Train Accuracy: 67.50232126276694% \t Loss: 0.3359502851963043\n",
            "Test Accuracy: 77.45901639344262%\n",
            "\n",
            "Epoch: 2 | trained in 0.51 minutes\n",
            "Train Accuracy: 72.16805942432683% \t Loss: 0.08834531158208847\n",
            "Test Accuracy: 82.37704918032787%\n",
            "\n",
            "Epoch: 3 | trained in 0.51 minutes\n",
            "Train Accuracy: 77.01949860724234% \t Loss: 0.011496486142277718\n",
            "Test Accuracy: 84.8360655737705%\n",
            "\n",
            "Epoch: 4 | trained in 0.51 minutes\n",
            "Train Accuracy: 80.55942432683379% \t Loss: 0.009496986865997314\n",
            "Test Accuracy: 84.42622950819673%\n",
            "\n",
            "Epoch: 5 | trained in 0.51 minutes\n",
            "Train Accuracy: 83.31476323119777% \t Loss: 0.0013167529832571745\n",
            "Test Accuracy: 82.78688524590164%\n",
            "\n"
          ],
          "name": "stdout"
        }
      ]
    }
  ]
}